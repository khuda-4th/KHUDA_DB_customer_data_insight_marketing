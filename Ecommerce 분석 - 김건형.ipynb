{
 "cells": [
  {
   "cell_type": "code",
   "execution_count": 1,
   "metadata": {},
   "outputs": [],
   "source": [
    "import pandas as pd\n",
    "from matplotlib import pyplot as plt\n",
    "import seaborn as sns"
   ]
  },
  {
   "cell_type": "code",
   "execution_count": 2,
   "metadata": {},
   "outputs": [
    {
     "data": {
      "text/html": [
       "<div>\n",
       "<style scoped>\n",
       "    .dataframe tbody tr th:only-of-type {\n",
       "        vertical-align: middle;\n",
       "    }\n",
       "\n",
       "    .dataframe tbody tr th {\n",
       "        vertical-align: top;\n",
       "    }\n",
       "\n",
       "    .dataframe thead th {\n",
       "        text-align: right;\n",
       "    }\n",
       "</style>\n",
       "<table border=\"1\" class=\"dataframe\">\n",
       "  <thead>\n",
       "    <tr style=\"text-align: right;\">\n",
       "      <th></th>\n",
       "      <th>index</th>\n",
       "      <th>CustomerID</th>\n",
       "      <th>TOTAL_ORDERS</th>\n",
       "      <th>REVENUE</th>\n",
       "      <th>AVERAGE_ORDER_VALUE</th>\n",
       "      <th>CARRIAGE_REVENUE</th>\n",
       "      <th>AVERAGESHIPPING</th>\n",
       "      <th>FIRST_ORDER_DATE</th>\n",
       "      <th>LATEST_ORDER_DATE</th>\n",
       "      <th>AVGDAYSBETWEENORDERS</th>\n",
       "      <th>...</th>\n",
       "      <th>WEEK3_DAY16_DAY23_REVENUE</th>\n",
       "      <th>WEEK4_DAY24_DAY31_REVENUE</th>\n",
       "      <th>TIME_0000_0600_ORDERS</th>\n",
       "      <th>TIME_0601_1200_ORDERS</th>\n",
       "      <th>TIME_1200_1800_ORDERS</th>\n",
       "      <th>TIME_1801_2359_ORDERS</th>\n",
       "      <th>TIME_0000_0600_REVENUE</th>\n",
       "      <th>TIME_0601_1200_REVENUE</th>\n",
       "      <th>TIME_1200_1800_REVENUE</th>\n",
       "      <th>TIME_1801_2359_REVENUE</th>\n",
       "    </tr>\n",
       "  </thead>\n",
       "  <tbody>\n",
       "    <tr>\n",
       "      <th>0</th>\n",
       "      <td>0</td>\n",
       "      <td>2354</td>\n",
       "      <td>124</td>\n",
       "      <td>11986.54</td>\n",
       "      <td>96.67</td>\n",
       "      <td>529.59</td>\n",
       "      <td>4.27</td>\n",
       "      <td>2016-12-30</td>\n",
       "      <td>2021-10-24</td>\n",
       "      <td>14.19</td>\n",
       "      <td>...</td>\n",
       "      <td>2592.18</td>\n",
       "      <td>2409.71</td>\n",
       "      <td>12</td>\n",
       "      <td>61</td>\n",
       "      <td>37</td>\n",
       "      <td>14</td>\n",
       "      <td>1067.92</td>\n",
       "      <td>5674.65</td>\n",
       "      <td>3916.53</td>\n",
       "      <td>1327.44</td>\n",
       "    </tr>\n",
       "    <tr>\n",
       "      <th>1</th>\n",
       "      <td>1</td>\n",
       "      <td>2361</td>\n",
       "      <td>82</td>\n",
       "      <td>11025.96</td>\n",
       "      <td>134.46</td>\n",
       "      <td>97.92</td>\n",
       "      <td>1.19</td>\n",
       "      <td>2018-03-31</td>\n",
       "      <td>2021-10-24</td>\n",
       "      <td>15.89</td>\n",
       "      <td>...</td>\n",
       "      <td>2807.66</td>\n",
       "      <td>4106.19</td>\n",
       "      <td>1</td>\n",
       "      <td>13</td>\n",
       "      <td>24</td>\n",
       "      <td>44</td>\n",
       "      <td>30.25</td>\n",
       "      <td>3143.69</td>\n",
       "      <td>2205.47</td>\n",
       "      <td>5646.55</td>\n",
       "    </tr>\n",
       "    <tr>\n",
       "      <th>2</th>\n",
       "      <td>2</td>\n",
       "      <td>2415</td>\n",
       "      <td>43</td>\n",
       "      <td>7259.69</td>\n",
       "      <td>168.83</td>\n",
       "      <td>171.69</td>\n",
       "      <td>3.99</td>\n",
       "      <td>2017-11-30</td>\n",
       "      <td>2021-10-24</td>\n",
       "      <td>33.12</td>\n",
       "      <td>...</td>\n",
       "      <td>713.94</td>\n",
       "      <td>2861.90</td>\n",
       "      <td>0</td>\n",
       "      <td>6</td>\n",
       "      <td>12</td>\n",
       "      <td>25</td>\n",
       "      <td>0.00</td>\n",
       "      <td>707.98</td>\n",
       "      <td>2560.91</td>\n",
       "      <td>3990.80</td>\n",
       "    </tr>\n",
       "    <tr>\n",
       "      <th>3</th>\n",
       "      <td>3</td>\n",
       "      <td>2427</td>\n",
       "      <td>44</td>\n",
       "      <td>6992.27</td>\n",
       "      <td>158.92</td>\n",
       "      <td>92.82</td>\n",
       "      <td>2.11</td>\n",
       "      <td>2019-04-09</td>\n",
       "      <td>2021-10-24</td>\n",
       "      <td>21.11</td>\n",
       "      <td>...</td>\n",
       "      <td>997.02</td>\n",
       "      <td>1260.08</td>\n",
       "      <td>0</td>\n",
       "      <td>10</td>\n",
       "      <td>13</td>\n",
       "      <td>21</td>\n",
       "      <td>0.00</td>\n",
       "      <td>1908.99</td>\n",
       "      <td>2025.05</td>\n",
       "      <td>3058.23</td>\n",
       "    </tr>\n",
       "    <tr>\n",
       "      <th>4</th>\n",
       "      <td>4</td>\n",
       "      <td>2456</td>\n",
       "      <td>55</td>\n",
       "      <td>6263.44</td>\n",
       "      <td>113.88</td>\n",
       "      <td>179.04</td>\n",
       "      <td>3.26</td>\n",
       "      <td>2020-10-23</td>\n",
       "      <td>2021-10-24</td>\n",
       "      <td>6.65</td>\n",
       "      <td>...</td>\n",
       "      <td>2725.66</td>\n",
       "      <td>768.46</td>\n",
       "      <td>6</td>\n",
       "      <td>9</td>\n",
       "      <td>27</td>\n",
       "      <td>13</td>\n",
       "      <td>501.34</td>\n",
       "      <td>1197.83</td>\n",
       "      <td>3004.77</td>\n",
       "      <td>1559.50</td>\n",
       "    </tr>\n",
       "  </tbody>\n",
       "</table>\n",
       "<p>5 rows × 41 columns</p>\n",
       "</div>"
      ],
      "text/plain": [
       "   index  CustomerID  TOTAL_ORDERS   REVENUE  AVERAGE_ORDER_VALUE  \\\n",
       "0      0        2354           124  11986.54                96.67   \n",
       "1      1        2361            82  11025.96               134.46   \n",
       "2      2        2415            43   7259.69               168.83   \n",
       "3      3        2427            44   6992.27               158.92   \n",
       "4      4        2456            55   6263.44               113.88   \n",
       "\n",
       "   CARRIAGE_REVENUE  AVERAGESHIPPING FIRST_ORDER_DATE LATEST_ORDER_DATE  \\\n",
       "0            529.59             4.27       2016-12-30        2021-10-24   \n",
       "1             97.92             1.19       2018-03-31        2021-10-24   \n",
       "2            171.69             3.99       2017-11-30        2021-10-24   \n",
       "3             92.82             2.11       2019-04-09        2021-10-24   \n",
       "4            179.04             3.26       2020-10-23        2021-10-24   \n",
       "\n",
       "   AVGDAYSBETWEENORDERS  ...  WEEK3_DAY16_DAY23_REVENUE  \\\n",
       "0                 14.19  ...                    2592.18   \n",
       "1                 15.89  ...                    2807.66   \n",
       "2                 33.12  ...                     713.94   \n",
       "3                 21.11  ...                     997.02   \n",
       "4                  6.65  ...                    2725.66   \n",
       "\n",
       "   WEEK4_DAY24_DAY31_REVENUE  TIME_0000_0600_ORDERS  TIME_0601_1200_ORDERS  \\\n",
       "0                    2409.71                     12                     61   \n",
       "1                    4106.19                      1                     13   \n",
       "2                    2861.90                      0                      6   \n",
       "3                    1260.08                      0                     10   \n",
       "4                     768.46                      6                      9   \n",
       "\n",
       "   TIME_1200_1800_ORDERS  TIME_1801_2359_ORDERS  TIME_0000_0600_REVENUE  \\\n",
       "0                     37                     14                 1067.92   \n",
       "1                     24                     44                   30.25   \n",
       "2                     12                     25                    0.00   \n",
       "3                     13                     21                    0.00   \n",
       "4                     27                     13                  501.34   \n",
       "\n",
       "   TIME_0601_1200_REVENUE  TIME_1200_1800_REVENUE  TIME_1801_2359_REVENUE  \n",
       "0                 5674.65                 3916.53                 1327.44  \n",
       "1                 3143.69                 2205.47                 5646.55  \n",
       "2                  707.98                 2560.91                 3990.80  \n",
       "3                 1908.99                 2025.05                 3058.23  \n",
       "4                 1197.83                 3004.77                 1559.50  \n",
       "\n",
       "[5 rows x 41 columns]"
      ]
     },
     "execution_count": 2,
     "metadata": {},
     "output_type": "execute_result"
    }
   ],
   "source": [
    "data = pd.read_csv('datasets/e_commerce_sales.csv')\n",
    "data.head()"
   ]
  },
  {
   "cell_type": "code",
   "execution_count": 3,
   "metadata": {},
   "outputs": [
    {
     "name": "stdout",
     "output_type": "stream",
     "text": [
      "<class 'pandas.core.frame.DataFrame'>\n",
      "RangeIndex: 5000 entries, 0 to 4999\n",
      "Data columns (total 41 columns):\n",
      " #   Column                     Non-Null Count  Dtype  \n",
      "---  ------                     --------------  -----  \n",
      " 0   index                      5000 non-null   int64  \n",
      " 1   CustomerID                 5000 non-null   int64  \n",
      " 2   TOTAL_ORDERS               5000 non-null   int64  \n",
      " 3   REVENUE                    5000 non-null   float64\n",
      " 4   AVERAGE_ORDER_VALUE        5000 non-null   float64\n",
      " 5   CARRIAGE_REVENUE           5000 non-null   float64\n",
      " 6   AVERAGESHIPPING            5000 non-null   float64\n",
      " 7   FIRST_ORDER_DATE           5000 non-null   object \n",
      " 8   LATEST_ORDER_DATE          5000 non-null   object \n",
      " 9   AVGDAYSBETWEENORDERS       5000 non-null   float64\n",
      " 10  DAYSSINCELASTORDER         5000 non-null   int64  \n",
      " 11  MONDAY_ORDERS              5000 non-null   int64  \n",
      " 12  TUESDAY_ORDERS             5000 non-null   int64  \n",
      " 13  WEDNESDAY_ORDERS           5000 non-null   int64  \n",
      " 14  THURSDAY_ORDERS            5000 non-null   int64  \n",
      " 15  FRIDAY_ORDERS              5000 non-null   int64  \n",
      " 16  SATURDAY_ORDERS            5000 non-null   int64  \n",
      " 17  SUNDAY_ORDERS              5000 non-null   int64  \n",
      " 18  MONDAY_REVENUE             5000 non-null   float64\n",
      " 19  TUESDAY_REVENUE            5000 non-null   float64\n",
      " 20  WEDNESDAY_REVENUE          5000 non-null   float64\n",
      " 21  THURSDAY_REVENUE           5000 non-null   float64\n",
      " 22  FRIDAY_REVENUE             5000 non-null   float64\n",
      " 23  SATURDAY_REVENUE           5000 non-null   float64\n",
      " 24  SUNDAY_REVENUE             5000 non-null   float64\n",
      " 25  WEEK1_DAY01_DAY07_ORDERS   5000 non-null   int64  \n",
      " 26  WEEK2_DAY08_DAY15_ORDERS   5000 non-null   int64  \n",
      " 27  WEEK3_DAY16_DAY23_ORDERS   5000 non-null   int64  \n",
      " 28  WEEK4_DAY24_DAY31_ORDERS   5000 non-null   int64  \n",
      " 29  WEEK1_DAY01_DAY07_REVENUE  5000 non-null   float64\n",
      " 30  WEEK2_DAY08_DAY15_REVENUE  5000 non-null   float64\n",
      " 31  WEEK3_DAY16_DAY23_REVENUE  5000 non-null   float64\n",
      " 32  WEEK4_DAY24_DAY31_REVENUE  5000 non-null   float64\n",
      " 33  TIME_0000_0600_ORDERS      5000 non-null   int64  \n",
      " 34  TIME_0601_1200_ORDERS      5000 non-null   int64  \n",
      " 35  TIME_1200_1800_ORDERS      5000 non-null   int64  \n",
      " 36  TIME_1801_2359_ORDERS      5000 non-null   int64  \n",
      " 37  TIME_0000_0600_REVENUE     5000 non-null   float64\n",
      " 38  TIME_0601_1200_REVENUE     5000 non-null   float64\n",
      " 39  TIME_1200_1800_REVENUE     5000 non-null   float64\n",
      " 40  TIME_1801_2359_REVENUE     5000 non-null   float64\n",
      "dtypes: float64(20), int64(19), object(2)\n",
      "memory usage: 1.6+ MB\n"
     ]
    }
   ],
   "source": [
    "data.info()"
   ]
  },
  {
   "cell_type": "code",
   "execution_count": 4,
   "metadata": {},
   "outputs": [],
   "source": [
    "# 첫 주문일, 최근 주문 일자 형식 변환 (기준일 : 2021-10-25)\n",
    "from datetime import datetime\n",
    "\n",
    "data['FIRST_ORDER_DATE'] = (datetime.strptime('2021-10-25', '%Y-%m-%d') - pd.to_datetime(data['FIRST_ORDER_DATE'])).dt.days\n",
    "data['LATEST_ORDER_DATE'] = (datetime.strptime('2021-10-25', '%Y-%m-%d') - pd.to_datetime(data['LATEST_ORDER_DATE'])).dt.days"
   ]
  },
  {
   "cell_type": "code",
   "execution_count": 5,
   "metadata": {},
   "outputs": [
    {
     "data": {
      "text/plain": [
       "<Axes: >"
      ]
     },
     "execution_count": 5,
     "metadata": {},
     "output_type": "execute_result"
    },
    {
     "data": {
      "image/png": "[encoded data removed]",
      "text/plain": [
       "<Figure size 640x480 with 2 Axes>"
      ]
     },
     "metadata": {},
     "output_type": "display_data"
    }
   ],
   "source": [
    "data_corr = data.drop(['FIRST_ORDER_DATE', 'LATEST_ORDER_DATE'], axis=1).corr()\n",
    "sns.heatmap(data_corr)"
   ]
  },
  {
   "cell_type": "code",
   "execution_count": 6,
   "metadata": {},
   "outputs": [],
   "source": [
    "df_info = data[['CustomerID', 'TOTAL_ORDERS', 'REVENUE', 'AVERAGE_ORDER_VALUE', 'CARRIAGE_REVENUE', 'AVERAGESHIPPING', 'FIRST_ORDER_DATE', 'LATEST_ORDER_DATE',\n",
    "                'AVGDAYSBETWEENORDERS', 'DAYSSINCELASTORDER']]\n",
    "\n",
    "df_weekday = data[['CustomerID', 'MONDAY_ORDERS', 'TUESDAY_ORDERS', 'WEDNESDAY_ORDERS', 'THURSDAY_ORDERS', 'FRIDAY_ORDERS', 'SATURDAY_ORDERS', 'SUNDAY_ORDERS',\n",
    "                 'MONDAY_REVENUE', 'TUESDAY_REVENUE', 'WEDNESDAY_REVENUE', 'THURSDAY_REVENUE', 'FRIDAY_REVENUE', 'SATURDAY_REVENUE', 'SUNDAY_REVENUE']]\n",
    "\n",
    "df_week = data[['CustomerID', 'WEEK1_DAY01_DAY07_ORDERS', 'WEEK2_DAY08_DAY15_ORDERS', 'WEEK3_DAY16_DAY23_ORDERS', 'WEEK4_DAY24_DAY31_ORDERS',\n",
    "                'WEEK1_DAY01_DAY07_REVENUE', 'WEEK2_DAY08_DAY15_REVENUE', 'WEEK3_DAY16_DAY23_REVENUE', 'WEEK4_DAY24_DAY31_REVENUE']]\n",
    "\n",
    "df_time = data[['CustomerID', 'TIME_0000_0600_ORDERS', 'TIME_0601_1200_ORDERS', 'TIME_1200_1800_ORDERS', 'TIME_1801_2359_ORDERS',\n",
    "                'TIME_0000_0600_REVENUE', 'TIME_0601_1200_REVENUE', 'TIME_1200_1800_REVENUE', 'TIME_1801_2359_REVENUE']]"
   ]
  },
  {
   "cell_type": "code",
   "execution_count": 7,
   "metadata": {},
   "outputs": [
    {
     "data": {
      "text/html": [
       "<div>\n",
       "<style scoped>\n",
       "    .dataframe tbody tr th:only-of-type {\n",
       "        vertical-align: middle;\n",
       "    }\n",
       "\n",
       "    .dataframe tbody tr th {\n",
       "        vertical-align: top;\n",
       "    }\n",
       "\n",
       "    .dataframe thead th {\n",
       "        text-align: right;\n",
       "    }\n",
       "</style>\n",
       "<table border=\"1\" class=\"dataframe\">\n",
       "  <thead>\n",
       "    <tr style=\"text-align: right;\">\n",
       "      <th></th>\n",
       "      <th>CustomerID</th>\n",
       "      <th>TOTAL_ORDERS</th>\n",
       "      <th>REVENUE</th>\n",
       "      <th>AVERAGE_ORDER_VALUE</th>\n",
       "      <th>CARRIAGE_REVENUE</th>\n",
       "      <th>AVERAGESHIPPING</th>\n",
       "      <th>FIRST_ORDER_DATE</th>\n",
       "      <th>LATEST_ORDER_DATE</th>\n",
       "      <th>AVGDAYSBETWEENORDERS</th>\n",
       "      <th>DAYSSINCELASTORDER</th>\n",
       "    </tr>\n",
       "  </thead>\n",
       "  <tbody>\n",
       "    <tr>\n",
       "      <th>0</th>\n",
       "      <td>2354</td>\n",
       "      <td>124</td>\n",
       "      <td>11986.54</td>\n",
       "      <td>96.67</td>\n",
       "      <td>529.59</td>\n",
       "      <td>4.27</td>\n",
       "      <td>1760</td>\n",
       "      <td>1</td>\n",
       "      <td>14.19</td>\n",
       "      <td>1</td>\n",
       "    </tr>\n",
       "    <tr>\n",
       "      <th>1</th>\n",
       "      <td>2361</td>\n",
       "      <td>82</td>\n",
       "      <td>11025.96</td>\n",
       "      <td>134.46</td>\n",
       "      <td>97.92</td>\n",
       "      <td>1.19</td>\n",
       "      <td>1304</td>\n",
       "      <td>1</td>\n",
       "      <td>15.89</td>\n",
       "      <td>1</td>\n",
       "    </tr>\n",
       "    <tr>\n",
       "      <th>2</th>\n",
       "      <td>2415</td>\n",
       "      <td>43</td>\n",
       "      <td>7259.69</td>\n",
       "      <td>168.83</td>\n",
       "      <td>171.69</td>\n",
       "      <td>3.99</td>\n",
       "      <td>1425</td>\n",
       "      <td>1</td>\n",
       "      <td>33.12</td>\n",
       "      <td>1</td>\n",
       "    </tr>\n",
       "    <tr>\n",
       "      <th>3</th>\n",
       "      <td>2427</td>\n",
       "      <td>44</td>\n",
       "      <td>6992.27</td>\n",
       "      <td>158.92</td>\n",
       "      <td>92.82</td>\n",
       "      <td>2.11</td>\n",
       "      <td>930</td>\n",
       "      <td>1</td>\n",
       "      <td>21.11</td>\n",
       "      <td>1</td>\n",
       "    </tr>\n",
       "    <tr>\n",
       "      <th>4</th>\n",
       "      <td>2456</td>\n",
       "      <td>55</td>\n",
       "      <td>6263.44</td>\n",
       "      <td>113.88</td>\n",
       "      <td>179.04</td>\n",
       "      <td>3.26</td>\n",
       "      <td>367</td>\n",
       "      <td>1</td>\n",
       "      <td>6.65</td>\n",
       "      <td>1</td>\n",
       "    </tr>\n",
       "  </tbody>\n",
       "</table>\n",
       "</div>"
      ],
      "text/plain": [
       "   CustomerID  TOTAL_ORDERS   REVENUE  AVERAGE_ORDER_VALUE  CARRIAGE_REVENUE  \\\n",
       "0        2354           124  11986.54                96.67            529.59   \n",
       "1        2361            82  11025.96               134.46             97.92   \n",
       "2        2415            43   7259.69               168.83            171.69   \n",
       "3        2427            44   6992.27               158.92             92.82   \n",
       "4        2456            55   6263.44               113.88            179.04   \n",
       "\n",
       "   AVERAGESHIPPING  FIRST_ORDER_DATE  LATEST_ORDER_DATE  AVGDAYSBETWEENORDERS  \\\n",
       "0             4.27              1760                  1                 14.19   \n",
       "1             1.19              1304                  1                 15.89   \n",
       "2             3.99              1425                  1                 33.12   \n",
       "3             2.11               930                  1                 21.11   \n",
       "4             3.26               367                  1                  6.65   \n",
       "\n",
       "   DAYSSINCELASTORDER  \n",
       "0                   1  \n",
       "1                   1  \n",
       "2                   1  \n",
       "3                   1  \n",
       "4                   1  "
      ]
     },
     "execution_count": 7,
     "metadata": {},
     "output_type": "execute_result"
    }
   ],
   "source": [
    "df_info.head()"
   ]
  },
  {
   "cell_type": "markdown",
   "metadata": {},
   "source": [
    "### df_info 가설 :  \n",
    "1. (TOTAL_ORDERS)주문 수가 많은 사람은 총 구매액 (REVENUE)가 높을 것이다.  \n",
    "2. (DAYSSINCELASTORDER)미지막 주문으로부터 ##일 이상 지난 사람은 주문 수(TOTAL_ORDERS)가 적을 것이다.  \n",
    "3. (AVGDAYSBETWEENORDERS) 평균 주문 간격이 짧은 사람은 주문 수(TOTAL_ORDERS)가 많을 것이다.  \n",
    "4. 평균 배송 금액이 높을 수록 총 주문 수는 낮을 것이다.  "
   ]
  },
  {
   "cell_type": "code",
   "execution_count": 8,
   "metadata": {},
   "outputs": [
    {
     "data": {
      "text/html": [
       "<div>\n",
       "<style scoped>\n",
       "    .dataframe tbody tr th:only-of-type {\n",
       "        vertical-align: middle;\n",
       "    }\n",
       "\n",
       "    .dataframe tbody tr th {\n",
       "        vertical-align: top;\n",
       "    }\n",
       "\n",
       "    .dataframe thead th {\n",
       "        text-align: right;\n",
       "    }\n",
       "</style>\n",
       "<table border=\"1\" class=\"dataframe\">\n",
       "  <thead>\n",
       "    <tr style=\"text-align: right;\">\n",
       "      <th></th>\n",
       "      <th>CustomerID</th>\n",
       "      <th>MONDAY_ORDERS</th>\n",
       "      <th>TUESDAY_ORDERS</th>\n",
       "      <th>WEDNESDAY_ORDERS</th>\n",
       "      <th>THURSDAY_ORDERS</th>\n",
       "      <th>FRIDAY_ORDERS</th>\n",
       "      <th>SATURDAY_ORDERS</th>\n",
       "      <th>SUNDAY_ORDERS</th>\n",
       "      <th>MONDAY_REVENUE</th>\n",
       "      <th>TUESDAY_REVENUE</th>\n",
       "      <th>WEDNESDAY_REVENUE</th>\n",
       "      <th>THURSDAY_REVENUE</th>\n",
       "      <th>FRIDAY_REVENUE</th>\n",
       "      <th>SATURDAY_REVENUE</th>\n",
       "      <th>SUNDAY_REVENUE</th>\n",
       "    </tr>\n",
       "  </thead>\n",
       "  <tbody>\n",
       "    <tr>\n",
       "      <th>0</th>\n",
       "      <td>2354</td>\n",
       "      <td>13</td>\n",
       "      <td>13</td>\n",
       "      <td>29</td>\n",
       "      <td>25</td>\n",
       "      <td>19</td>\n",
       "      <td>15</td>\n",
       "      <td>10</td>\n",
       "      <td>1287.50</td>\n",
       "      <td>1054.15</td>\n",
       "      <td>2842.52</td>\n",
       "      <td>2133.79</td>\n",
       "      <td>2051.94</td>\n",
       "      <td>1496.33</td>\n",
       "      <td>1120.31</td>\n",
       "    </tr>\n",
       "    <tr>\n",
       "      <th>1</th>\n",
       "      <td>2361</td>\n",
       "      <td>11</td>\n",
       "      <td>13</td>\n",
       "      <td>10</td>\n",
       "      <td>13</td>\n",
       "      <td>14</td>\n",
       "      <td>10</td>\n",
       "      <td>11</td>\n",
       "      <td>1253.08</td>\n",
       "      <td>2003.25</td>\n",
       "      <td>1819.75</td>\n",
       "      <td>1114.83</td>\n",
       "      <td>1791.86</td>\n",
       "      <td>1624.34</td>\n",
       "      <td>1418.85</td>\n",
       "    </tr>\n",
       "    <tr>\n",
       "      <th>2</th>\n",
       "      <td>2415</td>\n",
       "      <td>5</td>\n",
       "      <td>4</td>\n",
       "      <td>3</td>\n",
       "      <td>5</td>\n",
       "      <td>5</td>\n",
       "      <td>8</td>\n",
       "      <td>13</td>\n",
       "      <td>698.95</td>\n",
       "      <td>504.97</td>\n",
       "      <td>197.97</td>\n",
       "      <td>1182.97</td>\n",
       "      <td>733.96</td>\n",
       "      <td>1223.96</td>\n",
       "      <td>2716.91</td>\n",
       "    </tr>\n",
       "    <tr>\n",
       "      <th>3</th>\n",
       "      <td>2427</td>\n",
       "      <td>10</td>\n",
       "      <td>8</td>\n",
       "      <td>5</td>\n",
       "      <td>8</td>\n",
       "      <td>5</td>\n",
       "      <td>3</td>\n",
       "      <td>5</td>\n",
       "      <td>1753.95</td>\n",
       "      <td>1400.23</td>\n",
       "      <td>570.48</td>\n",
       "      <td>1154.06</td>\n",
       "      <td>798.07</td>\n",
       "      <td>630.00</td>\n",
       "      <td>685.48</td>\n",
       "    </tr>\n",
       "    <tr>\n",
       "      <th>4</th>\n",
       "      <td>2456</td>\n",
       "      <td>2</td>\n",
       "      <td>3</td>\n",
       "      <td>8</td>\n",
       "      <td>8</td>\n",
       "      <td>12</td>\n",
       "      <td>10</td>\n",
       "      <td>12</td>\n",
       "      <td>150.98</td>\n",
       "      <td>330.38</td>\n",
       "      <td>1090.23</td>\n",
       "      <td>563.63</td>\n",
       "      <td>1339.44</td>\n",
       "      <td>956.56</td>\n",
       "      <td>1832.22</td>\n",
       "    </tr>\n",
       "  </tbody>\n",
       "</table>\n",
       "</div>"
      ],
      "text/plain": [
       "   CustomerID  MONDAY_ORDERS  TUESDAY_ORDERS  WEDNESDAY_ORDERS  \\\n",
       "0        2354             13              13                29   \n",
       "1        2361             11              13                10   \n",
       "2        2415              5               4                 3   \n",
       "3        2427             10               8                 5   \n",
       "4        2456              2               3                 8   \n",
       "\n",
       "   THURSDAY_ORDERS  FRIDAY_ORDERS  SATURDAY_ORDERS  SUNDAY_ORDERS  \\\n",
       "0               25             19               15             10   \n",
       "1               13             14               10             11   \n",
       "2                5              5                8             13   \n",
       "3                8              5                3              5   \n",
       "4                8             12               10             12   \n",
       "\n",
       "   MONDAY_REVENUE  TUESDAY_REVENUE  WEDNESDAY_REVENUE  THURSDAY_REVENUE  \\\n",
       "0         1287.50          1054.15            2842.52           2133.79   \n",
       "1         1253.08          2003.25            1819.75           1114.83   \n",
       "2          698.95           504.97             197.97           1182.97   \n",
       "3         1753.95          1400.23             570.48           1154.06   \n",
       "4          150.98           330.38            1090.23            563.63   \n",
       "\n",
       "   FRIDAY_REVENUE  SATURDAY_REVENUE  SUNDAY_REVENUE  \n",
       "0         2051.94           1496.33         1120.31  \n",
       "1         1791.86           1624.34         1418.85  \n",
       "2          733.96           1223.96         2716.91  \n",
       "3          798.07            630.00          685.48  \n",
       "4         1339.44            956.56         1832.22  "
      ]
     },
     "execution_count": 8,
     "metadata": {},
     "output_type": "execute_result"
    }
   ],
   "source": [
    "df_weekday.head()"
   ]
  },
  {
   "cell_type": "code",
   "execution_count": 9,
   "metadata": {},
   "outputs": [
    {
     "data": {
      "text/html": [
       "<div>\n",
       "<style scoped>\n",
       "    .dataframe tbody tr th:only-of-type {\n",
       "        vertical-align: middle;\n",
       "    }\n",
       "\n",
       "    .dataframe tbody tr th {\n",
       "        vertical-align: top;\n",
       "    }\n",
       "\n",
       "    .dataframe thead th {\n",
       "        text-align: right;\n",
       "    }\n",
       "</style>\n",
       "<table border=\"1\" class=\"dataframe\">\n",
       "  <thead>\n",
       "    <tr style=\"text-align: right;\">\n",
       "      <th></th>\n",
       "      <th>CustomerID</th>\n",
       "      <th>MONDAY_ORDERS</th>\n",
       "      <th>TUESDAY_ORDERS</th>\n",
       "      <th>WEDNESDAY_ORDERS</th>\n",
       "      <th>THURSDAY_ORDERS</th>\n",
       "      <th>FRIDAY_ORDERS</th>\n",
       "      <th>SATURDAY_ORDERS</th>\n",
       "      <th>SUNDAY_ORDERS</th>\n",
       "    </tr>\n",
       "  </thead>\n",
       "  <tbody>\n",
       "    <tr>\n",
       "      <th>0</th>\n",
       "      <td>2354</td>\n",
       "      <td>13</td>\n",
       "      <td>13</td>\n",
       "      <td>29</td>\n",
       "      <td>25</td>\n",
       "      <td>19</td>\n",
       "      <td>15</td>\n",
       "      <td>10</td>\n",
       "    </tr>\n",
       "    <tr>\n",
       "      <th>1</th>\n",
       "      <td>2361</td>\n",
       "      <td>11</td>\n",
       "      <td>13</td>\n",
       "      <td>10</td>\n",
       "      <td>13</td>\n",
       "      <td>14</td>\n",
       "      <td>10</td>\n",
       "      <td>11</td>\n",
       "    </tr>\n",
       "    <tr>\n",
       "      <th>2</th>\n",
       "      <td>2415</td>\n",
       "      <td>5</td>\n",
       "      <td>4</td>\n",
       "      <td>3</td>\n",
       "      <td>5</td>\n",
       "      <td>5</td>\n",
       "      <td>8</td>\n",
       "      <td>13</td>\n",
       "    </tr>\n",
       "    <tr>\n",
       "      <th>3</th>\n",
       "      <td>2427</td>\n",
       "      <td>10</td>\n",
       "      <td>8</td>\n",
       "      <td>5</td>\n",
       "      <td>8</td>\n",
       "      <td>5</td>\n",
       "      <td>3</td>\n",
       "      <td>5</td>\n",
       "    </tr>\n",
       "    <tr>\n",
       "      <th>4</th>\n",
       "      <td>2456</td>\n",
       "      <td>2</td>\n",
       "      <td>3</td>\n",
       "      <td>8</td>\n",
       "      <td>8</td>\n",
       "      <td>12</td>\n",
       "      <td>10</td>\n",
       "      <td>12</td>\n",
       "    </tr>\n",
       "  </tbody>\n",
       "</table>\n",
       "</div>"
      ],
      "text/plain": [
       "   CustomerID  MONDAY_ORDERS  TUESDAY_ORDERS  WEDNESDAY_ORDERS  \\\n",
       "0        2354             13              13                29   \n",
       "1        2361             11              13                10   \n",
       "2        2415              5               4                 3   \n",
       "3        2427             10               8                 5   \n",
       "4        2456              2               3                 8   \n",
       "\n",
       "   THURSDAY_ORDERS  FRIDAY_ORDERS  SATURDAY_ORDERS  SUNDAY_ORDERS  \n",
       "0               25             19               15             10  \n",
       "1               13             14               10             11  \n",
       "2                5              5                8             13  \n",
       "3                8              5                3              5  \n",
       "4                8             12               10             12  "
      ]
     },
     "execution_count": 9,
     "metadata": {},
     "output_type": "execute_result"
    }
   ],
   "source": [
    "df_weekday_order = df_weekday.iloc[:, :8]\n",
    "df_weekday_order.head()"
   ]
  },
  {
   "cell_type": "code",
   "execution_count": 10,
   "metadata": {},
   "outputs": [
    {
     "data": {
      "text/html": [
       "<div>\n",
       "<style scoped>\n",
       "    .dataframe tbody tr th:only-of-type {\n",
       "        vertical-align: middle;\n",
       "    }\n",
       "\n",
       "    .dataframe tbody tr th {\n",
       "        vertical-align: top;\n",
       "    }\n",
       "\n",
       "    .dataframe thead th {\n",
       "        text-align: right;\n",
       "    }\n",
       "</style>\n",
       "<table border=\"1\" class=\"dataframe\">\n",
       "  <thead>\n",
       "    <tr style=\"text-align: right;\">\n",
       "      <th></th>\n",
       "      <th>CustomerID</th>\n",
       "      <th>MONDAY_REVENUE</th>\n",
       "      <th>TUESDAY_REVENUE</th>\n",
       "      <th>WEDNESDAY_REVENUE</th>\n",
       "      <th>THURSDAY_REVENUE</th>\n",
       "      <th>FRIDAY_REVENUE</th>\n",
       "      <th>SATURDAY_REVENUE</th>\n",
       "      <th>SUNDAY_REVENUE</th>\n",
       "    </tr>\n",
       "  </thead>\n",
       "  <tbody>\n",
       "    <tr>\n",
       "      <th>0</th>\n",
       "      <td>2354</td>\n",
       "      <td>1287.50</td>\n",
       "      <td>1054.15</td>\n",
       "      <td>2842.52</td>\n",
       "      <td>2133.79</td>\n",
       "      <td>2051.94</td>\n",
       "      <td>1496.33</td>\n",
       "      <td>1120.31</td>\n",
       "    </tr>\n",
       "    <tr>\n",
       "      <th>1</th>\n",
       "      <td>2361</td>\n",
       "      <td>1253.08</td>\n",
       "      <td>2003.25</td>\n",
       "      <td>1819.75</td>\n",
       "      <td>1114.83</td>\n",
       "      <td>1791.86</td>\n",
       "      <td>1624.34</td>\n",
       "      <td>1418.85</td>\n",
       "    </tr>\n",
       "    <tr>\n",
       "      <th>2</th>\n",
       "      <td>2415</td>\n",
       "      <td>698.95</td>\n",
       "      <td>504.97</td>\n",
       "      <td>197.97</td>\n",
       "      <td>1182.97</td>\n",
       "      <td>733.96</td>\n",
       "      <td>1223.96</td>\n",
       "      <td>2716.91</td>\n",
       "    </tr>\n",
       "    <tr>\n",
       "      <th>3</th>\n",
       "      <td>2427</td>\n",
       "      <td>1753.95</td>\n",
       "      <td>1400.23</td>\n",
       "      <td>570.48</td>\n",
       "      <td>1154.06</td>\n",
       "      <td>798.07</td>\n",
       "      <td>630.00</td>\n",
       "      <td>685.48</td>\n",
       "    </tr>\n",
       "    <tr>\n",
       "      <th>4</th>\n",
       "      <td>2456</td>\n",
       "      <td>150.98</td>\n",
       "      <td>330.38</td>\n",
       "      <td>1090.23</td>\n",
       "      <td>563.63</td>\n",
       "      <td>1339.44</td>\n",
       "      <td>956.56</td>\n",
       "      <td>1832.22</td>\n",
       "    </tr>\n",
       "  </tbody>\n",
       "</table>\n",
       "</div>"
      ],
      "text/plain": [
       "   CustomerID  MONDAY_REVENUE  TUESDAY_REVENUE  WEDNESDAY_REVENUE  \\\n",
       "0        2354         1287.50          1054.15            2842.52   \n",
       "1        2361         1253.08          2003.25            1819.75   \n",
       "2        2415          698.95           504.97             197.97   \n",
       "3        2427         1753.95          1400.23             570.48   \n",
       "4        2456          150.98           330.38            1090.23   \n",
       "\n",
       "   THURSDAY_REVENUE  FRIDAY_REVENUE  SATURDAY_REVENUE  SUNDAY_REVENUE  \n",
       "0           2133.79         2051.94           1496.33         1120.31  \n",
       "1           1114.83         1791.86           1624.34         1418.85  \n",
       "2           1182.97          733.96           1223.96         2716.91  \n",
       "3           1154.06          798.07            630.00          685.48  \n",
       "4            563.63         1339.44            956.56         1832.22  "
      ]
     },
     "execution_count": 10,
     "metadata": {},
     "output_type": "execute_result"
    }
   ],
   "source": [
    "df_weekday_revenue = df_weekday.iloc[:, [0, 8, 9, 10, 11, 12, 13, 14]]\n",
    "df_weekday_revenue.head()"
   ]
  },
  {
   "cell_type": "code",
   "execution_count": 11,
   "metadata": {},
   "outputs": [
    {
     "name": "stdout",
     "output_type": "stream",
     "text": [
      "[8145, 8772, 8990, 10670, 9731, 8417, 9627]\n",
      "[1076041, 1167552, 1178446, 1329748, 1252902, 1098210, 1304716]\n"
     ]
    }
   ],
   "source": [
    "sum_order_day = []\n",
    "sum_revenue_day = []\n",
    "for i in range(1, 8):\n",
    "    sum_order_day.append(df_weekday_order.iloc[:, i].sum())\n",
    "    sum_revenue_day.append(int(df_weekday_revenue.iloc[:, i].sum()))\n",
    "\n",
    "print(sum_order_day)\n",
    "print(sum_revenue_day)"
   ]
  },
  {
   "cell_type": "code",
   "execution_count": 12,
   "metadata": {},
   "outputs": [
    {
     "data": {
      "image/png": "[encoded data removed]",
      "text/plain": [
       "<Figure size 1500x700 with 2 Axes>"
      ]
     },
     "metadata": {},
     "output_type": "display_data"
    }
   ],
   "source": [
    "weekday = ['Monday', 'Tuesday', 'Wednesday', 'Thursday', 'Friday', 'Saturday', 'Sunday']\n",
    "\n",
    "f, axes = plt.subplots(1, 2)\n",
    "f.set_size_inches(15, 7)\n",
    "\n",
    "axes[0].bar(weekday, sum_order_day)\n",
    "axes[0].set_title('Order')\n",
    "\n",
    "axes[1].bar(weekday, sum_revenue_day)\n",
    "axes[1].set_title('Revenue')\n",
    "plt.show()"
   ]
  },
  {
   "cell_type": "markdown",
   "metadata": {},
   "source": [
    "주문과 매출의 요일별 양상은 똑같으며, 대략적으로    \n",
    "(목 -> (금, 일) -> 수 -> 화 -> (월, 토)) 순으로 활발함"
   ]
  },
  {
   "cell_type": "markdown",
   "metadata": {},
   "source": [
    "### 요일 관련 가설  \n",
    "1. 주문 빈도 or 총 주문액 or 주문 횟수가 많은 사람은 특정 요일에 더 많이 구매하는 경향이 있다. (+ 역)"
   ]
  },
  {
   "cell_type": "code",
   "execution_count": 13,
   "metadata": {},
   "outputs": [
    {
     "data": {
      "text/html": [
       "<div>\n",
       "<style scoped>\n",
       "    .dataframe tbody tr th:only-of-type {\n",
       "        vertical-align: middle;\n",
       "    }\n",
       "\n",
       "    .dataframe tbody tr th {\n",
       "        vertical-align: top;\n",
       "    }\n",
       "\n",
       "    .dataframe thead th {\n",
       "        text-align: right;\n",
       "    }\n",
       "</style>\n",
       "<table border=\"1\" class=\"dataframe\">\n",
       "  <thead>\n",
       "    <tr style=\"text-align: right;\">\n",
       "      <th></th>\n",
       "      <th>CustomerID</th>\n",
       "      <th>WEEK1_DAY01_DAY07_ORDERS</th>\n",
       "      <th>WEEK2_DAY08_DAY15_ORDERS</th>\n",
       "      <th>WEEK3_DAY16_DAY23_ORDERS</th>\n",
       "      <th>WEEK4_DAY24_DAY31_ORDERS</th>\n",
       "      <th>WEEK1_DAY01_DAY07_REVENUE</th>\n",
       "      <th>WEEK2_DAY08_DAY15_REVENUE</th>\n",
       "      <th>WEEK3_DAY16_DAY23_REVENUE</th>\n",
       "      <th>WEEK4_DAY24_DAY31_REVENUE</th>\n",
       "    </tr>\n",
       "  </thead>\n",
       "  <tbody>\n",
       "    <tr>\n",
       "      <th>0</th>\n",
       "      <td>2354</td>\n",
       "      <td>28</td>\n",
       "      <td>42</td>\n",
       "      <td>30</td>\n",
       "      <td>24</td>\n",
       "      <td>2685.37</td>\n",
       "      <td>4299.28</td>\n",
       "      <td>2592.18</td>\n",
       "      <td>2409.71</td>\n",
       "    </tr>\n",
       "    <tr>\n",
       "      <th>1</th>\n",
       "      <td>2361</td>\n",
       "      <td>18</td>\n",
       "      <td>19</td>\n",
       "      <td>19</td>\n",
       "      <td>26</td>\n",
       "      <td>1336.09</td>\n",
       "      <td>2776.02</td>\n",
       "      <td>2807.66</td>\n",
       "      <td>4106.19</td>\n",
       "    </tr>\n",
       "    <tr>\n",
       "      <th>2</th>\n",
       "      <td>2415</td>\n",
       "      <td>9</td>\n",
       "      <td>11</td>\n",
       "      <td>6</td>\n",
       "      <td>17</td>\n",
       "      <td>2299.93</td>\n",
       "      <td>1383.92</td>\n",
       "      <td>713.94</td>\n",
       "      <td>2861.90</td>\n",
       "    </tr>\n",
       "    <tr>\n",
       "      <th>3</th>\n",
       "      <td>2427</td>\n",
       "      <td>12</td>\n",
       "      <td>15</td>\n",
       "      <td>9</td>\n",
       "      <td>8</td>\n",
       "      <td>2317.95</td>\n",
       "      <td>2417.22</td>\n",
       "      <td>997.02</td>\n",
       "      <td>1260.08</td>\n",
       "    </tr>\n",
       "    <tr>\n",
       "      <th>4</th>\n",
       "      <td>2456</td>\n",
       "      <td>10</td>\n",
       "      <td>18</td>\n",
       "      <td>21</td>\n",
       "      <td>6</td>\n",
       "      <td>831.14</td>\n",
       "      <td>1938.18</td>\n",
       "      <td>2725.66</td>\n",
       "      <td>768.46</td>\n",
       "    </tr>\n",
       "  </tbody>\n",
       "</table>\n",
       "</div>"
      ],
      "text/plain": [
       "   CustomerID  WEEK1_DAY01_DAY07_ORDERS  WEEK2_DAY08_DAY15_ORDERS  \\\n",
       "0        2354                        28                        42   \n",
       "1        2361                        18                        19   \n",
       "2        2415                         9                        11   \n",
       "3        2427                        12                        15   \n",
       "4        2456                        10                        18   \n",
       "\n",
       "   WEEK3_DAY16_DAY23_ORDERS  WEEK4_DAY24_DAY31_ORDERS  \\\n",
       "0                        30                        24   \n",
       "1                        19                        26   \n",
       "2                         6                        17   \n",
       "3                         9                         8   \n",
       "4                        21                         6   \n",
       "\n",
       "   WEEK1_DAY01_DAY07_REVENUE  WEEK2_DAY08_DAY15_REVENUE  \\\n",
       "0                    2685.37                    4299.28   \n",
       "1                    1336.09                    2776.02   \n",
       "2                    2299.93                    1383.92   \n",
       "3                    2317.95                    2417.22   \n",
       "4                     831.14                    1938.18   \n",
       "\n",
       "   WEEK3_DAY16_DAY23_REVENUE  WEEK4_DAY24_DAY31_REVENUE  \n",
       "0                    2592.18                    2409.71  \n",
       "1                    2807.66                    4106.19  \n",
       "2                     713.94                    2861.90  \n",
       "3                     997.02                    1260.08  \n",
       "4                    2725.66                     768.46  "
      ]
     },
     "execution_count": 13,
     "metadata": {},
     "output_type": "execute_result"
    }
   ],
   "source": [
    "df_week.head()"
   ]
  },
  {
   "cell_type": "code",
   "execution_count": 14,
   "metadata": {},
   "outputs": [
    {
     "name": "stdout",
     "output_type": "stream",
     "text": [
      "[14989, 15313, 16150, 17900]\n",
      "[1893191, 2032978, 2109134, 2372314]\n"
     ]
    }
   ],
   "source": [
    "df_week_order = df_week.iloc[:, 1:5]\n",
    "df_week_revenue = df_week.iloc[:, 5:]\n",
    "\n",
    "sum_order_week = []\n",
    "sum_revenue_week = []\n",
    "\n",
    "for i in range(4):\n",
    "    sum_order_week.append(df_week_order.iloc[:, i].sum())\n",
    "    sum_revenue_week.append(int(df_week_revenue.iloc[:, i].sum()))\n",
    "print(sum_order_week)\n",
    "print(sum_revenue_week)"
   ]
  },
  {
   "cell_type": "code",
   "execution_count": 15,
   "metadata": {},
   "outputs": [
    {
     "data": {
      "image/png": "[encoded data removed]",
      "text/plain": [
       "<Figure size 1500x700 with 2 Axes>"
      ]
     },
     "metadata": {},
     "output_type": "display_data"
    }
   ],
   "source": [
    "week = ['Week1', 'Week2', 'Week3', 'Week4']\n",
    "\n",
    "f, axes = plt.subplots(1, 2)\n",
    "f.set_size_inches(15, 7)\n",
    "\n",
    "axes[0].bar(week, sum_order_week)\n",
    "axes[0].set_title('Order')\n",
    "\n",
    "axes[1].bar(week, sum_revenue_week)\n",
    "axes[1].set_title('Revenue')\n",
    "plt.show()"
   ]
  },
  {
   "cell_type": "markdown",
   "metadata": {},
   "source": [
    "### 주차별 가설  \n",
    "1. 목요일의 높은 매출은 마지막 주의 높은 매출 때문이다. (월급날?)"
   ]
  },
  {
   "cell_type": "code",
   "execution_count": 16,
   "metadata": {},
   "outputs": [
    {
     "data": {
      "text/html": [
       "<div>\n",
       "<style scoped>\n",
       "    .dataframe tbody tr th:only-of-type {\n",
       "        vertical-align: middle;\n",
       "    }\n",
       "\n",
       "    .dataframe tbody tr th {\n",
       "        vertical-align: top;\n",
       "    }\n",
       "\n",
       "    .dataframe thead th {\n",
       "        text-align: right;\n",
       "    }\n",
       "</style>\n",
       "<table border=\"1\" class=\"dataframe\">\n",
       "  <thead>\n",
       "    <tr style=\"text-align: right;\">\n",
       "      <th></th>\n",
       "      <th>CustomerID</th>\n",
       "      <th>TIME_0000_0600_ORDERS</th>\n",
       "      <th>TIME_0601_1200_ORDERS</th>\n",
       "      <th>TIME_1200_1800_ORDERS</th>\n",
       "      <th>TIME_1801_2359_ORDERS</th>\n",
       "      <th>TIME_0000_0600_REVENUE</th>\n",
       "      <th>TIME_0601_1200_REVENUE</th>\n",
       "      <th>TIME_1200_1800_REVENUE</th>\n",
       "      <th>TIME_1801_2359_REVENUE</th>\n",
       "    </tr>\n",
       "  </thead>\n",
       "  <tbody>\n",
       "    <tr>\n",
       "      <th>0</th>\n",
       "      <td>2354</td>\n",
       "      <td>12</td>\n",
       "      <td>61</td>\n",
       "      <td>37</td>\n",
       "      <td>14</td>\n",
       "      <td>1067.92</td>\n",
       "      <td>5674.65</td>\n",
       "      <td>3916.53</td>\n",
       "      <td>1327.44</td>\n",
       "    </tr>\n",
       "    <tr>\n",
       "      <th>1</th>\n",
       "      <td>2361</td>\n",
       "      <td>1</td>\n",
       "      <td>13</td>\n",
       "      <td>24</td>\n",
       "      <td>44</td>\n",
       "      <td>30.25</td>\n",
       "      <td>3143.69</td>\n",
       "      <td>2205.47</td>\n",
       "      <td>5646.55</td>\n",
       "    </tr>\n",
       "    <tr>\n",
       "      <th>2</th>\n",
       "      <td>2415</td>\n",
       "      <td>0</td>\n",
       "      <td>6</td>\n",
       "      <td>12</td>\n",
       "      <td>25</td>\n",
       "      <td>0.00</td>\n",
       "      <td>707.98</td>\n",
       "      <td>2560.91</td>\n",
       "      <td>3990.80</td>\n",
       "    </tr>\n",
       "    <tr>\n",
       "      <th>3</th>\n",
       "      <td>2427</td>\n",
       "      <td>0</td>\n",
       "      <td>10</td>\n",
       "      <td>13</td>\n",
       "      <td>21</td>\n",
       "      <td>0.00</td>\n",
       "      <td>1908.99</td>\n",
       "      <td>2025.05</td>\n",
       "      <td>3058.23</td>\n",
       "    </tr>\n",
       "    <tr>\n",
       "      <th>4</th>\n",
       "      <td>2456</td>\n",
       "      <td>6</td>\n",
       "      <td>9</td>\n",
       "      <td>27</td>\n",
       "      <td>13</td>\n",
       "      <td>501.34</td>\n",
       "      <td>1197.83</td>\n",
       "      <td>3004.77</td>\n",
       "      <td>1559.50</td>\n",
       "    </tr>\n",
       "  </tbody>\n",
       "</table>\n",
       "</div>"
      ],
      "text/plain": [
       "   CustomerID  TIME_0000_0600_ORDERS  TIME_0601_1200_ORDERS  \\\n",
       "0        2354                     12                     61   \n",
       "1        2361                      1                     13   \n",
       "2        2415                      0                      6   \n",
       "3        2427                      0                     10   \n",
       "4        2456                      6                      9   \n",
       "\n",
       "   TIME_1200_1800_ORDERS  TIME_1801_2359_ORDERS  TIME_0000_0600_REVENUE  \\\n",
       "0                     37                     14                 1067.92   \n",
       "1                     24                     44                   30.25   \n",
       "2                     12                     25                    0.00   \n",
       "3                     13                     21                    0.00   \n",
       "4                     27                     13                  501.34   \n",
       "\n",
       "   TIME_0601_1200_REVENUE  TIME_1200_1800_REVENUE  TIME_1801_2359_REVENUE  \n",
       "0                 5674.65                 3916.53                 1327.44  \n",
       "1                 3143.69                 2205.47                 5646.55  \n",
       "2                  707.98                 2560.91                 3990.80  \n",
       "3                 1908.99                 2025.05                 3058.23  \n",
       "4                 1197.83                 3004.77                 1559.50  "
      ]
     },
     "execution_count": 16,
     "metadata": {},
     "output_type": "execute_result"
    }
   ],
   "source": [
    "df_time.head()"
   ]
  },
  {
   "cell_type": "code",
   "execution_count": 17,
   "metadata": {},
   "outputs": [
    {
     "name": "stdout",
     "output_type": "stream",
     "text": [
      "[5144, 18731, 22170, 18307]\n",
      "[655313, 2434319, 2923658, 2394328]\n"
     ]
    }
   ],
   "source": [
    "df_time_order = df_time.iloc[:, 1:5]\n",
    "df_time_revenue = df_time.iloc[:, 5:]\n",
    "\n",
    "sum_order_time = []\n",
    "sum_revenue_time = []\n",
    "\n",
    "for i in range(4):\n",
    "    sum_order_time.append(df_time_order.iloc[:, i].sum())\n",
    "    sum_revenue_time.append(int(df_time_revenue.iloc[:, i].sum()))\n",
    "print(sum_order_time)\n",
    "print(sum_revenue_time)"
   ]
  },
  {
   "cell_type": "code",
   "execution_count": 18,
   "metadata": {},
   "outputs": [
    {
     "data": {
      "image/png": "[encoded data removed]",
      "text/plain": [
       "<Figure size 1500x700 with 2 Axes>"
      ]
     },
     "metadata": {},
     "output_type": "display_data"
    }
   ],
   "source": [
    "time = ['0000~0600', '0601~1200', '1201~1800', '1801~2359']\n",
    "\n",
    "f, axes = plt.subplots(1, 2)\n",
    "f.set_size_inches(15, 7)\n",
    "\n",
    "axes[0].bar(time, sum_order_time)\n",
    "axes[0].set_title('Order')\n",
    "\n",
    "axes[1].bar(time, sum_revenue_time)\n",
    "axes[1].set_title('Revenue')\n",
    "plt.show()"
   ]
  },
  {
   "cell_type": "markdown",
   "metadata": {},
   "source": [
    "## 요약  \n",
    "### df_info 가설 :  \n",
    "1. (TOTAL_ORDERS)주문 수가 많은 사람은 총 구매액 (REVENUE)가 높을 것이다.  \n",
    "2. (DAYSSINCELASTORDER)마지막 주문으로부터 ##일 이상 지난 사람은 주문 수(TOTAL_ORDERS)가 적을 것이다.  \n",
    "3. (AVGDAYSBETWEENORDERS) 평균 주문 간격이 짧은 사람은 주문 수(TOTAL_ORDERS)가 많을 것이다.  \n",
    "4. 평균 배송 금액이 높을 수록 총 주문 수는 낮을 것이다.  \n",
    "\n",
    "### 요일별 가설\n",
    "주문과 매출의 요일별 양상은 똑같으며, 대략적으로    \n",
    "(목 -> (금, 일) -> 수 -> 화 -> (월, 토)) 순으로 활발함  \n",
    "1. 주문 빈도 or 총 주문액 or 주문 횟수가 많은 사람은 특정 요일에 더 많이 구매하는 경향이 있다. (+ 역)\n",
    "\n",
    "### 주차별 가설  \n",
    "1. 목요일의 높은 매출은 마지막 주의 높은 매출 때문이다. (월급날?)"
   ]
  },
  {
   "cell_type": "markdown",
   "metadata": {},
   "source": [
    "# 분석"
   ]
  },
  {
   "cell_type": "markdown",
   "metadata": {},
   "source": [
    "1. 귀무가설 : 주문 수가 많은 사람은 총 구매액이 높을 것이다.  \n",
    "상관분석"
   ]
  },
  {
   "cell_type": "code",
   "execution_count": 19,
   "metadata": {},
   "outputs": [
    {
     "name": "stdout",
     "output_type": "stream",
     "text": [
      "              TOTAL_ORDERS   REVENUE\n",
      "TOTAL_ORDERS      1.000000  0.771996\n",
      "REVENUE           0.771996  1.000000\n",
      "---------------\n",
      "PearsonRResult(statistic=0.7719960094538744, pvalue=0.0)\n"
     ]
    }
   ],
   "source": [
    "from scipy import stats\n",
    "df2 = data[['TOTAL_ORDERS', 'REVENUE']]\n",
    "\n",
    "\n",
    "print(df2.corr())\n",
    "print('---------------')\n",
    "print(stats.pearsonr(df2['REVENUE'], df2['TOTAL_ORDERS']))"
   ]
  },
  {
   "cell_type": "markdown",
   "metadata": {},
   "source": [
    "## 상관계수 0.77에 유의확률 0.0으로, 주문 수와 총 구매액 사이에는 유의미한 상관관계가 있다고 할 수 있다."
   ]
  },
  {
   "cell_type": "markdown",
   "metadata": {},
   "source": [
    "2. 귀무가설 : 마지막 주문으로부터 n일 이상 지난 사람은 주문 수가 적을 것이다.  \n",
    "(마지막 주문으로부터 30일 이상 지난 사람들의 그룹, 마지막 주문으로부터 30일 이상 지나지 않은 사람들의 그룹)과 주문 수, 매출 과의 상관관계 분석  "
   ]
  },
  {
   "cell_type": "code",
   "execution_count": 20,
   "metadata": {},
   "outputs": [],
   "source": [
    "df_latest_under_30 = data.loc[data['LATEST_ORDER_DATE'] <= 30, ['TOTAL_ORDERS', 'REVENUE', 'LATEST_ORDER_DATE']]\n",
    "df_latest_up_30 = data.loc[data['LATEST_ORDER_DATE'] > 30, ['TOTAL_ORDERS', 'REVENUE', 'LATEST_ORDER_DATE']]"
   ]
  },
  {
   "cell_type": "code",
   "execution_count": 21,
   "metadata": {},
   "outputs": [
    {
     "name": "stdout",
     "output_type": "stream",
     "text": [
      "최근 주문 30일 미만 평균 주문 수 :  13.548709847288047\n",
      "최근 주문 30일 미만 평균 구매액 :  1699.5458135860977\n",
      "-------------------------------------------------------------\n",
      "최근 주문 30일 이상 평균 주문 수 :  12.45501451144792\n",
      "최근 주문 30일 이상 평균 구매액 :  1670.4874879071267\n"
     ]
    }
   ],
   "source": [
    "print('최근 주문 30일 미만 평균 주문 수 : ', df_latest_under_30['TOTAL_ORDERS'].mean())\n",
    "print('최근 주문 30일 미만 평균 구매액 : ', df_latest_under_30['REVENUE'].mean())\n",
    "print('-------------------------------------------------------------')\n",
    "print('최근 주문 30일 이상 평균 주문 수 : ',df_latest_up_30['TOTAL_ORDERS'].mean())\n",
    "print('최근 주문 30일 이상 평균 구매액 : ',df_latest_up_30['REVENUE'].mean())"
   ]
  },
  {
   "cell_type": "code",
   "execution_count": 22,
   "metadata": {},
   "outputs": [
    {
     "data": {
      "text/html": [
       "<div>\n",
       "<style scoped>\n",
       "    .dataframe tbody tr th:only-of-type {\n",
       "        vertical-align: middle;\n",
       "    }\n",
       "\n",
       "    .dataframe tbody tr th {\n",
       "        vertical-align: top;\n",
       "    }\n",
       "\n",
       "    .dataframe thead th {\n",
       "        text-align: right;\n",
       "    }\n",
       "</style>\n",
       "<table border=\"1\" class=\"dataframe\">\n",
       "  <thead>\n",
       "    <tr style=\"text-align: right;\">\n",
       "      <th></th>\n",
       "      <th>TOTAL_ORDERS</th>\n",
       "      <th>REVENUE</th>\n",
       "      <th>LATEST_ORDER_DATE</th>\n",
       "    </tr>\n",
       "  </thead>\n",
       "  <tbody>\n",
       "    <tr>\n",
       "      <th>0</th>\n",
       "      <td>124</td>\n",
       "      <td>11986.54</td>\n",
       "      <td>1</td>\n",
       "    </tr>\n",
       "    <tr>\n",
       "      <th>1</th>\n",
       "      <td>82</td>\n",
       "      <td>11025.96</td>\n",
       "      <td>1</td>\n",
       "    </tr>\n",
       "    <tr>\n",
       "      <th>2</th>\n",
       "      <td>43</td>\n",
       "      <td>7259.69</td>\n",
       "      <td>1</td>\n",
       "    </tr>\n",
       "    <tr>\n",
       "      <th>3</th>\n",
       "      <td>44</td>\n",
       "      <td>6992.27</td>\n",
       "      <td>1</td>\n",
       "    </tr>\n",
       "    <tr>\n",
       "      <th>4</th>\n",
       "      <td>55</td>\n",
       "      <td>6263.44</td>\n",
       "      <td>1</td>\n",
       "    </tr>\n",
       "  </tbody>\n",
       "</table>\n",
       "</div>"
      ],
      "text/plain": [
       "   TOTAL_ORDERS   REVENUE  LATEST_ORDER_DATE\n",
       "0           124  11986.54                  1\n",
       "1            82  11025.96                  1\n",
       "2            43   7259.69                  1\n",
       "3            44   6992.27                  1\n",
       "4            55   6263.44                  1"
      ]
     },
     "execution_count": 22,
     "metadata": {},
     "output_type": "execute_result"
    }
   ],
   "source": [
    "df3 = data[['TOTAL_ORDERS', 'REVENUE', 'LATEST_ORDER_DATE']]\n",
    "df3.head()"
   ]
  },
  {
   "cell_type": "code",
   "execution_count": 23,
   "metadata": {},
   "outputs": [
    {
     "name": "stderr",
     "output_type": "stream",
     "text": [
      "/var/folders/29/49d2_7gx7ml5z_vc76rgbnsm0000gn/T/ipykernel_50263/4113397229.py:5: SettingWithCopyWarning: \n",
      "A value is trying to be set on a copy of a slice from a DataFrame.\n",
      "Try using .loc[row_indexer,col_indexer] = value instead\n",
      "\n",
      "See the caveats in the documentation: https://pandas.pydata.org/pandas-docs/stable/user_guide/indexing.html#returning-a-view-versus-a-copy\n",
      "  df3.loc[:, 'CATEGORY_LATEST_ORDER'] = pd.cut(df3['LATEST_ORDER_DATE'], bins=bins, labels=labels, right=False)\n"
     ]
    },
    {
     "data": {
      "text/html": [
       "<div>\n",
       "<style scoped>\n",
       "    .dataframe tbody tr th:only-of-type {\n",
       "        vertical-align: middle;\n",
       "    }\n",
       "\n",
       "    .dataframe tbody tr th {\n",
       "        vertical-align: top;\n",
       "    }\n",
       "\n",
       "    .dataframe thead th {\n",
       "        text-align: right;\n",
       "    }\n",
       "</style>\n",
       "<table border=\"1\" class=\"dataframe\">\n",
       "  <thead>\n",
       "    <tr style=\"text-align: right;\">\n",
       "      <th></th>\n",
       "      <th>TOTAL_ORDERS</th>\n",
       "      <th>REVENUE</th>\n",
       "      <th>LATEST_ORDER_DATE</th>\n",
       "      <th>CATEGORY_LATEST_ORDER</th>\n",
       "    </tr>\n",
       "  </thead>\n",
       "  <tbody>\n",
       "    <tr>\n",
       "      <th>0</th>\n",
       "      <td>124</td>\n",
       "      <td>11986.54</td>\n",
       "      <td>1</td>\n",
       "      <td>0_to_30</td>\n",
       "    </tr>\n",
       "    <tr>\n",
       "      <th>1</th>\n",
       "      <td>82</td>\n",
       "      <td>11025.96</td>\n",
       "      <td>1</td>\n",
       "      <td>0_to_30</td>\n",
       "    </tr>\n",
       "    <tr>\n",
       "      <th>2</th>\n",
       "      <td>43</td>\n",
       "      <td>7259.69</td>\n",
       "      <td>1</td>\n",
       "      <td>0_to_30</td>\n",
       "    </tr>\n",
       "    <tr>\n",
       "      <th>3</th>\n",
       "      <td>44</td>\n",
       "      <td>6992.27</td>\n",
       "      <td>1</td>\n",
       "      <td>0_to_30</td>\n",
       "    </tr>\n",
       "    <tr>\n",
       "      <th>4</th>\n",
       "      <td>55</td>\n",
       "      <td>6263.44</td>\n",
       "      <td>1</td>\n",
       "      <td>0_to_30</td>\n",
       "    </tr>\n",
       "  </tbody>\n",
       "</table>\n",
       "</div>"
      ],
      "text/plain": [
       "   TOTAL_ORDERS   REVENUE  LATEST_ORDER_DATE CATEGORY_LATEST_ORDER\n",
       "0           124  11986.54                  1               0_to_30\n",
       "1            82  11025.96                  1               0_to_30\n",
       "2            43   7259.69                  1               0_to_30\n",
       "3            44   6992.27                  1               0_to_30\n",
       "4            55   6263.44                  1               0_to_30"
      ]
     },
     "execution_count": 23,
     "metadata": {},
     "output_type": "execute_result"
    }
   ],
   "source": [
    "# 최근 주문일을 범주형으로 나눈다.\n",
    "bins= [0, 30, 50, 100, 300]\n",
    "labels= ['0_to_30', '31_to_50', '51_to_100', '100_to_max']\n",
    "\n",
    "df3.loc[:, 'CATEGORY_LATEST_ORDER'] = pd.cut(df3['LATEST_ORDER_DATE'], bins=bins, labels=labels, right=False)\n",
    "df3.head()"
   ]
  },
  {
   "cell_type": "code",
   "execution_count": 24,
   "metadata": {},
   "outputs": [
    {
     "data": {
      "text/html": [
       "<div>\n",
       "<style scoped>\n",
       "    .dataframe tbody tr th:only-of-type {\n",
       "        vertical-align: middle;\n",
       "    }\n",
       "\n",
       "    .dataframe tbody tr th {\n",
       "        vertical-align: top;\n",
       "    }\n",
       "\n",
       "    .dataframe thead th {\n",
       "        text-align: right;\n",
       "    }\n",
       "</style>\n",
       "<table border=\"1\" class=\"dataframe\">\n",
       "  <thead>\n",
       "    <tr style=\"text-align: right;\">\n",
       "      <th></th>\n",
       "      <th>Source</th>\n",
       "      <th>ddof1</th>\n",
       "      <th>ddof2</th>\n",
       "      <th>F</th>\n",
       "      <th>p-unc</th>\n",
       "      <th>np2</th>\n",
       "    </tr>\n",
       "  </thead>\n",
       "  <tbody>\n",
       "    <tr>\n",
       "      <th>0</th>\n",
       "      <td>CATEGORY_LATEST_ORDER</td>\n",
       "      <td>3</td>\n",
       "      <td>1228.883169</td>\n",
       "      <td>175.037324</td>\n",
       "      <td>1.752829e-94</td>\n",
       "      <td>0.090484</td>\n",
       "    </tr>\n",
       "  </tbody>\n",
       "</table>\n",
       "</div>"
      ],
      "text/plain": [
       "                  Source  ddof1        ddof2           F         p-unc  \\\n",
       "0  CATEGORY_LATEST_ORDER      3  1228.883169  175.037324  1.752829e-94   \n",
       "\n",
       "        np2  \n",
       "0  0.090484  "
      ]
     },
     "execution_count": 24,
     "metadata": {},
     "output_type": "execute_result"
    }
   ],
   "source": [
    "# 분산분석\n",
    "import scipy as sp\n",
    "import numpy as np\n",
    "import pingouin as pg\n",
    "import scikit_posthocs\n",
    "\n",
    "pg.welch_anova(dv='TOTAL_ORDERS', between='CATEGORY_LATEST_ORDER', data=df3)\n"
   ]
  },
  {
   "cell_type": "code",
   "execution_count": 25,
   "metadata": {},
   "outputs": [
    {
     "data": {
      "text/html": [
       "<div>\n",
       "<style scoped>\n",
       "    .dataframe tbody tr th:only-of-type {\n",
       "        vertical-align: middle;\n",
       "    }\n",
       "\n",
       "    .dataframe tbody tr th {\n",
       "        vertical-align: top;\n",
       "    }\n",
       "\n",
       "    .dataframe thead th {\n",
       "        text-align: right;\n",
       "    }\n",
       "</style>\n",
       "<table border=\"1\" class=\"dataframe\">\n",
       "  <thead>\n",
       "    <tr style=\"text-align: right;\">\n",
       "      <th></th>\n",
       "      <th>0_to_30</th>\n",
       "      <th>31_to_50</th>\n",
       "      <th>51_to_100</th>\n",
       "      <th>100_to_max</th>\n",
       "    </tr>\n",
       "  </thead>\n",
       "  <tbody>\n",
       "    <tr>\n",
       "      <th>0_to_30</th>\n",
       "      <td>1.000000e+00</td>\n",
       "      <td>6.936829e-21</td>\n",
       "      <td>1.816683e-18</td>\n",
       "      <td>5.283196e-28</td>\n",
       "    </tr>\n",
       "    <tr>\n",
       "      <th>31_to_50</th>\n",
       "      <td>6.936829e-21</td>\n",
       "      <td>1.000000e+00</td>\n",
       "      <td>7.296804e-02</td>\n",
       "      <td>1.861459e-55</td>\n",
       "    </tr>\n",
       "    <tr>\n",
       "      <th>51_to_100</th>\n",
       "      <td>1.816683e-18</td>\n",
       "      <td>7.296804e-02</td>\n",
       "      <td>1.000000e+00</td>\n",
       "      <td>9.550562e-67</td>\n",
       "    </tr>\n",
       "    <tr>\n",
       "      <th>100_to_max</th>\n",
       "      <td>5.283196e-28</td>\n",
       "      <td>1.861459e-55</td>\n",
       "      <td>9.550562e-67</td>\n",
       "      <td>1.000000e+00</td>\n",
       "    </tr>\n",
       "  </tbody>\n",
       "</table>\n",
       "</div>"
      ],
      "text/plain": [
       "                 0_to_30      31_to_50     51_to_100    100_to_max\n",
       "0_to_30     1.000000e+00  6.936829e-21  1.816683e-18  5.283196e-28\n",
       "31_to_50    6.936829e-21  1.000000e+00  7.296804e-02  1.861459e-55\n",
       "51_to_100   1.816683e-18  7.296804e-02  1.000000e+00  9.550562e-67\n",
       "100_to_max  5.283196e-28  1.861459e-55  9.550562e-67  1.000000e+00"
      ]
     },
     "execution_count": 25,
     "metadata": {},
     "output_type": "execute_result"
    }
   ],
   "source": [
    "# 사후분석\n",
    "scikit_posthocs.posthoc_scheffe(df3, val_col='TOTAL_ORDERS', group_col='CATEGORY_LATEST_ORDER')"
   ]
  },
  {
   "cell_type": "code",
   "execution_count": 26,
   "metadata": {},
   "outputs": [
    {
     "data": {
      "text/html": [
       "<div>\n",
       "<style scoped>\n",
       "    .dataframe tbody tr th:only-of-type {\n",
       "        vertical-align: middle;\n",
       "    }\n",
       "\n",
       "    .dataframe tbody tr th {\n",
       "        vertical-align: top;\n",
       "    }\n",
       "\n",
       "    .dataframe thead th {\n",
       "        text-align: right;\n",
       "    }\n",
       "</style>\n",
       "<table border=\"1\" class=\"dataframe\">\n",
       "  <thead>\n",
       "    <tr style=\"text-align: right;\">\n",
       "      <th></th>\n",
       "      <th>Source</th>\n",
       "      <th>ddof1</th>\n",
       "      <th>ddof2</th>\n",
       "      <th>F</th>\n",
       "      <th>p-unc</th>\n",
       "      <th>np2</th>\n",
       "    </tr>\n",
       "  </thead>\n",
       "  <tbody>\n",
       "    <tr>\n",
       "      <th>0</th>\n",
       "      <td>CATEGORY_LATEST_ORDER</td>\n",
       "      <td>3</td>\n",
       "      <td>1215.86179</td>\n",
       "      <td>93.503042</td>\n",
       "      <td>1.881926e-54</td>\n",
       "      <td>0.061298</td>\n",
       "    </tr>\n",
       "  </tbody>\n",
       "</table>\n",
       "</div>"
      ],
      "text/plain": [
       "                  Source  ddof1       ddof2          F         p-unc       np2\n",
       "0  CATEGORY_LATEST_ORDER      3  1215.86179  93.503042  1.881926e-54  0.061298"
      ]
     },
     "execution_count": 26,
     "metadata": {},
     "output_type": "execute_result"
    }
   ],
   "source": [
    "pg.welch_anova(dv='REVENUE', between='CATEGORY_LATEST_ORDER', data=df3)"
   ]
  },
  {
   "cell_type": "code",
   "execution_count": 27,
   "metadata": {},
   "outputs": [
    {
     "data": {
      "text/html": [
       "<div>\n",
       "<style scoped>\n",
       "    .dataframe tbody tr th:only-of-type {\n",
       "        vertical-align: middle;\n",
       "    }\n",
       "\n",
       "    .dataframe tbody tr th {\n",
       "        vertical-align: top;\n",
       "    }\n",
       "\n",
       "    .dataframe thead th {\n",
       "        text-align: right;\n",
       "    }\n",
       "</style>\n",
       "<table border=\"1\" class=\"dataframe\">\n",
       "  <thead>\n",
       "    <tr style=\"text-align: right;\">\n",
       "      <th></th>\n",
       "      <th>0_to_30</th>\n",
       "      <th>31_to_50</th>\n",
       "      <th>51_to_100</th>\n",
       "      <th>100_to_max</th>\n",
       "    </tr>\n",
       "  </thead>\n",
       "  <tbody>\n",
       "    <tr>\n",
       "      <th>0_to_30</th>\n",
       "      <td>1.000000e+00</td>\n",
       "      <td>8.117008e-16</td>\n",
       "      <td>1.068395e-18</td>\n",
       "      <td>3.839694e-12</td>\n",
       "    </tr>\n",
       "    <tr>\n",
       "      <th>31_to_50</th>\n",
       "      <td>8.117008e-16</td>\n",
       "      <td>1.000000e+00</td>\n",
       "      <td>5.578711e-01</td>\n",
       "      <td>1.496206e-34</td>\n",
       "    </tr>\n",
       "    <tr>\n",
       "      <th>51_to_100</th>\n",
       "      <td>1.068395e-18</td>\n",
       "      <td>5.578711e-01</td>\n",
       "      <td>1.000000e+00</td>\n",
       "      <td>1.854920e-47</td>\n",
       "    </tr>\n",
       "    <tr>\n",
       "      <th>100_to_max</th>\n",
       "      <td>3.839694e-12</td>\n",
       "      <td>1.496206e-34</td>\n",
       "      <td>1.854920e-47</td>\n",
       "      <td>1.000000e+00</td>\n",
       "    </tr>\n",
       "  </tbody>\n",
       "</table>\n",
       "</div>"
      ],
      "text/plain": [
       "                 0_to_30      31_to_50     51_to_100    100_to_max\n",
       "0_to_30     1.000000e+00  8.117008e-16  1.068395e-18  3.839694e-12\n",
       "31_to_50    8.117008e-16  1.000000e+00  5.578711e-01  1.496206e-34\n",
       "51_to_100   1.068395e-18  5.578711e-01  1.000000e+00  1.854920e-47\n",
       "100_to_max  3.839694e-12  1.496206e-34  1.854920e-47  1.000000e+00"
      ]
     },
     "execution_count": 27,
     "metadata": {},
     "output_type": "execute_result"
    }
   ],
   "source": [
    "scikit_posthocs.posthoc_scheffe(df3, val_col='REVENUE', group_col='CATEGORY_LATEST_ORDER')"
   ]
  },
  {
   "cell_type": "code",
   "execution_count": 28,
   "metadata": {},
   "outputs": [
    {
     "name": "stdout",
     "output_type": "stream",
     "text": [
      "13.493899204244032\n",
      "20.511627906976745\n",
      "18.41886269070735\n",
      "9.06341463414634\n",
      "--------------------------------------------------------\n",
      "1690.4002015915119\n",
      "2666.657587209302\n",
      "2484.0033425797506\n",
      "1225.8137560975608\n"
     ]
    }
   ],
   "source": [
    "print(df3.loc[df3['CATEGORY_LATEST_ORDER'] == '0_to_30', 'TOTAL_ORDERS'].mean())\n",
    "print(df3.loc[df3['CATEGORY_LATEST_ORDER'] == '31_to_50', 'TOTAL_ORDERS'].mean())\n",
    "print(df3.loc[df3['CATEGORY_LATEST_ORDER'] == '51_to_100', 'TOTAL_ORDERS'].mean())\n",
    "print(df3.loc[df3['CATEGORY_LATEST_ORDER'] == '100_to_max', 'TOTAL_ORDERS'].mean())\n",
    "print('--------------------------------------------------------')\n",
    "print(df3.loc[df3['CATEGORY_LATEST_ORDER'] == '0_to_30', 'REVENUE'].mean())\n",
    "print(df3.loc[df3['CATEGORY_LATEST_ORDER'] == '31_to_50', 'REVENUE'].mean())\n",
    "print(df3.loc[df3['CATEGORY_LATEST_ORDER'] == '51_to_100', 'REVENUE'].mean())\n",
    "print(df3.loc[df3['CATEGORY_LATEST_ORDER'] == '100_to_max', 'REVENUE'].mean())"
   ]
  },
  {
   "cell_type": "markdown",
   "metadata": {},
   "source": [
    "분산분석 결과, p-value의 값은 0.01 미만으로 각 범주 간 총 주문 수에는 유의한 차이가 있다고 볼 수 있다.  \n",
    "사후분석 결과, '31_to_50' 그룹과 '51_to_100'그룹을 제외하고는 (유의확률 0.07) 모두 그룹 간 유의한 차이가 있다고 볼 수 있다.  \n",
    "각 그룹 별 평균 주문 수와 주문액을 살펴보면, 예상과 다르게 가장 최근 30일 이내로 주문한 그룹의 총 주문 수와 매출액이 적은 편인 것을 볼 수 있다.  \n",
    "신규 유입, 단발성 구매 등을 이유로 추론할 수 있을 듯하다.  \n",
    "분산분석과 사후분석, 그리고 각 범주별 평균을 모두 종합해봤을 때, 최근 주문일을 기준으로 한 주요 고객층은 31~100일 구간의 고객이라고 할 수 있다.  \n",
    "  \n",
    "  그러나 최근 구매한 고객 중 단발성 구매인 고객과 단발성 구매 후 장기 미사용 고객을 제외시켜야 구매가 활발한 충성고객을 더욱 잘 반영한 통계가 나올 듯하다."
   ]
  },
  {
   "cell_type": "code",
   "execution_count": 29,
   "metadata": {},
   "outputs": [
    {
     "data": {
      "image/png": "[encoded data removed]",
      "text/plain": [
       "<Figure size 640x480 with 1 Axes>"
      ]
     },
     "metadata": {},
     "output_type": "display_data"
    }
   ],
   "source": [
    "plt.hist(df3['LATEST_ORDER_DATE'], bins=range(0, 220, 5))\n",
    "plt.show()"
   ]
  },
  {
   "cell_type": "code",
   "execution_count": 30,
   "metadata": {},
   "outputs": [
    {
     "data": {
      "text/plain": [
       "TOTAL_ORDERS             2715\n",
       "REVENUE                  2715\n",
       "LATEST_ORDER_DATE        2715\n",
       "CATEGORY_LATEST_ORDER    2715\n",
       "dtype: int64"
      ]
     },
     "execution_count": 30,
     "metadata": {},
     "output_type": "execute_result"
    }
   ],
   "source": [
    "# 먼저, 총 주문 수가 10회 이하인 사람을 추려낸다.\n",
    "df3.loc[df3['TOTAL_ORDERS'] <= 10].count()"
   ]
  },
  {
   "cell_type": "code",
   "execution_count": 31,
   "metadata": {},
   "outputs": [
    {
     "data": {
      "text/plain": [
       "538.0836206261511"
      ]
     },
     "execution_count": 31,
     "metadata": {},
     "output_type": "execute_result"
    }
   ],
   "source": [
    "df3.loc[df3['TOTAL_ORDERS'] <= 10]['REVENUE'].mean()"
   ]
  },
  {
   "cell_type": "code",
   "execution_count": 32,
   "metadata": {},
   "outputs": [
    {
     "data": {
      "text/html": [
       "<div>\n",
       "<style scoped>\n",
       "    .dataframe tbody tr th:only-of-type {\n",
       "        vertical-align: middle;\n",
       "    }\n",
       "\n",
       "    .dataframe tbody tr th {\n",
       "        vertical-align: top;\n",
       "    }\n",
       "\n",
       "    .dataframe thead th {\n",
       "        text-align: right;\n",
       "    }\n",
       "</style>\n",
       "<table border=\"1\" class=\"dataframe\">\n",
       "  <thead>\n",
       "    <tr style=\"text-align: right;\">\n",
       "      <th></th>\n",
       "      <th>TOTAL_ORDERS</th>\n",
       "      <th>REVENUE</th>\n",
       "      <th>LATEST_ORDER_DATE</th>\n",
       "      <th>CATEGORY_LATEST_ORDER</th>\n",
       "    </tr>\n",
       "  </thead>\n",
       "  <tbody>\n",
       "    <tr>\n",
       "      <th>0</th>\n",
       "      <td>124</td>\n",
       "      <td>11986.54</td>\n",
       "      <td>1</td>\n",
       "      <td>0_to_30</td>\n",
       "    </tr>\n",
       "    <tr>\n",
       "      <th>1</th>\n",
       "      <td>82</td>\n",
       "      <td>11025.96</td>\n",
       "      <td>1</td>\n",
       "      <td>0_to_30</td>\n",
       "    </tr>\n",
       "    <tr>\n",
       "      <th>2</th>\n",
       "      <td>43</td>\n",
       "      <td>7259.69</td>\n",
       "      <td>1</td>\n",
       "      <td>0_to_30</td>\n",
       "    </tr>\n",
       "    <tr>\n",
       "      <th>3</th>\n",
       "      <td>44</td>\n",
       "      <td>6992.27</td>\n",
       "      <td>1</td>\n",
       "      <td>0_to_30</td>\n",
       "    </tr>\n",
       "    <tr>\n",
       "      <th>4</th>\n",
       "      <td>55</td>\n",
       "      <td>6263.44</td>\n",
       "      <td>1</td>\n",
       "      <td>0_to_30</td>\n",
       "    </tr>\n",
       "  </tbody>\n",
       "</table>\n",
       "</div>"
      ],
      "text/plain": [
       "   TOTAL_ORDERS   REVENUE  LATEST_ORDER_DATE CATEGORY_LATEST_ORDER\n",
       "0           124  11986.54                  1               0_to_30\n",
       "1            82  11025.96                  1               0_to_30\n",
       "2            43   7259.69                  1               0_to_30\n",
       "3            44   6992.27                  1               0_to_30\n",
       "4            55   6263.44                  1               0_to_30"
      ]
     },
     "execution_count": 32,
     "metadata": {},
     "output_type": "execute_result"
    }
   ],
   "source": [
    "df3_order_more_10 = df3.loc[df3['TOTAL_ORDERS'] > 10]\n",
    "df3_order_more_10.head()"
   ]
  },
  {
   "cell_type": "code",
   "execution_count": 33,
   "metadata": {},
   "outputs": [
    {
     "data": {
      "image/png": "[encoded data removed]",
      "text/plain": [
       "<Figure size 640x480 with 1 Axes>"
      ]
     },
     "metadata": {},
     "output_type": "display_data"
    }
   ],
   "source": [
    "plt.hist(df3_order_more_10['LATEST_ORDER_DATE'], bins=range(0, 220, 5))\n",
    "plt.show()"
   ]
  },
  {
   "cell_type": "code",
   "execution_count": 34,
   "metadata": {},
   "outputs": [
    {
     "name": "stdout",
     "output_type": "stream",
     "text": [
      "1885\n",
      "344\n",
      "721\n",
      "2050\n",
      "-----------------------------\n",
      "858\n",
      "276\n",
      "517\n",
      "634\n"
     ]
    }
   ],
   "source": [
    "print(df3.loc[df3['CATEGORY_LATEST_ORDER'] == '0_to_30']['CATEGORY_LATEST_ORDER'].count())\n",
    "print(df3.loc[df3['CATEGORY_LATEST_ORDER'] == '31_to_50']['CATEGORY_LATEST_ORDER'].count())\n",
    "print(df3.loc[df3['CATEGORY_LATEST_ORDER'] == '51_to_100']['CATEGORY_LATEST_ORDER'].count())\n",
    "print(df3.loc[df3['CATEGORY_LATEST_ORDER'] == '100_to_max']['CATEGORY_LATEST_ORDER'].count())\n",
    "print('-----------------------------')\n",
    "print(df3_order_more_10.loc[df3_order_more_10['CATEGORY_LATEST_ORDER'] == '0_to_30']['CATEGORY_LATEST_ORDER'].count())\n",
    "print(df3_order_more_10.loc[df3_order_more_10['CATEGORY_LATEST_ORDER'] == '31_to_50']['CATEGORY_LATEST_ORDER'].count())\n",
    "print(df3_order_more_10.loc[df3_order_more_10['CATEGORY_LATEST_ORDER'] == '51_to_100']['CATEGORY_LATEST_ORDER'].count())\n",
    "print(df3_order_more_10.loc[df3_order_more_10['CATEGORY_LATEST_ORDER'] == '100_to_max']['CATEGORY_LATEST_ORDER'].count())"
   ]
  },
  {
   "cell_type": "markdown",
   "metadata": {},
   "source": [
    "주문 수가 10회 이하인 사람들 중 대부분은 신규 유입 또는 장기 미사용 고객인 것을 볼 수 있다.  \n",
    "다시 분산분석, 사후분석 진행"
   ]
  },
  {
   "cell_type": "code",
   "execution_count": 35,
   "metadata": {},
   "outputs": [
    {
     "data": {
      "text/html": [
       "<div>\n",
       "<style scoped>\n",
       "    .dataframe tbody tr th:only-of-type {\n",
       "        vertical-align: middle;\n",
       "    }\n",
       "\n",
       "    .dataframe tbody tr th {\n",
       "        vertical-align: top;\n",
       "    }\n",
       "\n",
       "    .dataframe thead th {\n",
       "        text-align: right;\n",
       "    }\n",
       "</style>\n",
       "<table border=\"1\" class=\"dataframe\">\n",
       "  <thead>\n",
       "    <tr style=\"text-align: right;\">\n",
       "      <th></th>\n",
       "      <th>Source</th>\n",
       "      <th>ddof1</th>\n",
       "      <th>ddof2</th>\n",
       "      <th>F</th>\n",
       "      <th>p-unc</th>\n",
       "      <th>np2</th>\n",
       "    </tr>\n",
       "  </thead>\n",
       "  <tbody>\n",
       "    <tr>\n",
       "      <th>0</th>\n",
       "      <td>CATEGORY_LATEST_ORDER</td>\n",
       "      <td>3</td>\n",
       "      <td>955.808488</td>\n",
       "      <td>14.343587</td>\n",
       "      <td>3.798107e-09</td>\n",
       "      <td>0.014898</td>\n",
       "    </tr>\n",
       "  </tbody>\n",
       "</table>\n",
       "</div>"
      ],
      "text/plain": [
       "                  Source  ddof1       ddof2          F         p-unc       np2\n",
       "0  CATEGORY_LATEST_ORDER      3  955.808488  14.343587  3.798107e-09  0.014898"
      ]
     },
     "execution_count": 35,
     "metadata": {},
     "output_type": "execute_result"
    }
   ],
   "source": [
    "pg.welch_anova(dv='TOTAL_ORDERS', between='CATEGORY_LATEST_ORDER', data=df3_order_more_10)"
   ]
  },
  {
   "cell_type": "code",
   "execution_count": 36,
   "metadata": {},
   "outputs": [
    {
     "data": {
      "text/html": [
       "<div>\n",
       "<style scoped>\n",
       "    .dataframe tbody tr th:only-of-type {\n",
       "        vertical-align: middle;\n",
       "    }\n",
       "\n",
       "    .dataframe tbody tr th {\n",
       "        vertical-align: top;\n",
       "    }\n",
       "\n",
       "    .dataframe thead th {\n",
       "        text-align: right;\n",
       "    }\n",
       "</style>\n",
       "<table border=\"1\" class=\"dataframe\">\n",
       "  <thead>\n",
       "    <tr style=\"text-align: right;\">\n",
       "      <th></th>\n",
       "      <th>0_to_30</th>\n",
       "      <th>31_to_50</th>\n",
       "      <th>51_to_100</th>\n",
       "      <th>100_to_max</th>\n",
       "    </tr>\n",
       "  </thead>\n",
       "  <tbody>\n",
       "    <tr>\n",
       "      <th>0_to_30</th>\n",
       "      <td>1.000000e+00</td>\n",
       "      <td>0.930862</td>\n",
       "      <td>0.373785</td>\n",
       "      <td>3.877329e-07</td>\n",
       "    </tr>\n",
       "    <tr>\n",
       "      <th>31_to_50</th>\n",
       "      <td>9.308615e-01</td>\n",
       "      <td>1.000000</td>\n",
       "      <td>0.921046</td>\n",
       "      <td>6.203126e-03</td>\n",
       "    </tr>\n",
       "    <tr>\n",
       "      <th>51_to_100</th>\n",
       "      <td>3.737848e-01</td>\n",
       "      <td>0.921046</td>\n",
       "      <td>1.000000</td>\n",
       "      <td>9.005155e-03</td>\n",
       "    </tr>\n",
       "    <tr>\n",
       "      <th>100_to_max</th>\n",
       "      <td>3.877329e-07</td>\n",
       "      <td>0.006203</td>\n",
       "      <td>0.009005</td>\n",
       "      <td>1.000000e+00</td>\n",
       "    </tr>\n",
       "  </tbody>\n",
       "</table>\n",
       "</div>"
      ],
      "text/plain": [
       "                 0_to_30  31_to_50  51_to_100    100_to_max\n",
       "0_to_30     1.000000e+00  0.930862   0.373785  3.877329e-07\n",
       "31_to_50    9.308615e-01  1.000000   0.921046  6.203126e-03\n",
       "51_to_100   3.737848e-01  0.921046   1.000000  9.005155e-03\n",
       "100_to_max  3.877329e-07  0.006203   0.009005  1.000000e+00"
      ]
     },
     "execution_count": 36,
     "metadata": {},
     "output_type": "execute_result"
    }
   ],
   "source": [
    "scikit_posthocs.posthoc_scheffe(df3_order_more_10, val_col='TOTAL_ORDERS', group_col='CATEGORY_LATEST_ORDER')"
   ]
  },
  {
   "cell_type": "code",
   "execution_count": 37,
   "metadata": {},
   "outputs": [
    {
     "data": {
      "text/html": [
       "<div>\n",
       "<style scoped>\n",
       "    .dataframe tbody tr th:only-of-type {\n",
       "        vertical-align: middle;\n",
       "    }\n",
       "\n",
       "    .dataframe tbody tr th {\n",
       "        vertical-align: top;\n",
       "    }\n",
       "\n",
       "    .dataframe thead th {\n",
       "        text-align: right;\n",
       "    }\n",
       "</style>\n",
       "<table border=\"1\" class=\"dataframe\">\n",
       "  <thead>\n",
       "    <tr style=\"text-align: right;\">\n",
       "      <th></th>\n",
       "      <th>Source</th>\n",
       "      <th>ddof1</th>\n",
       "      <th>ddof2</th>\n",
       "      <th>F</th>\n",
       "      <th>p-unc</th>\n",
       "      <th>np2</th>\n",
       "    </tr>\n",
       "  </thead>\n",
       "  <tbody>\n",
       "    <tr>\n",
       "      <th>0</th>\n",
       "      <td>CATEGORY_LATEST_ORDER</td>\n",
       "      <td>3</td>\n",
       "      <td>941.542335</td>\n",
       "      <td>0.306896</td>\n",
       "      <td>0.820424</td>\n",
       "      <td>0.000459</td>\n",
       "    </tr>\n",
       "  </tbody>\n",
       "</table>\n",
       "</div>"
      ],
      "text/plain": [
       "                  Source  ddof1       ddof2         F     p-unc       np2\n",
       "0  CATEGORY_LATEST_ORDER      3  941.542335  0.306896  0.820424  0.000459"
      ]
     },
     "execution_count": 37,
     "metadata": {},
     "output_type": "execute_result"
    }
   ],
   "source": [
    "pg.welch_anova(dv='REVENUE', between='CATEGORY_LATEST_ORDER', data=df3_order_more_10)"
   ]
  },
  {
   "cell_type": "code",
   "execution_count": 38,
   "metadata": {},
   "outputs": [
    {
     "data": {
      "text/html": [
       "<div>\n",
       "<style scoped>\n",
       "    .dataframe tbody tr th:only-of-type {\n",
       "        vertical-align: middle;\n",
       "    }\n",
       "\n",
       "    .dataframe tbody tr th {\n",
       "        vertical-align: top;\n",
       "    }\n",
       "\n",
       "    .dataframe thead th {\n",
       "        text-align: right;\n",
       "    }\n",
       "</style>\n",
       "<table border=\"1\" class=\"dataframe\">\n",
       "  <thead>\n",
       "    <tr style=\"text-align: right;\">\n",
       "      <th></th>\n",
       "      <th>0_to_30</th>\n",
       "      <th>31_to_50</th>\n",
       "      <th>51_to_100</th>\n",
       "      <th>100_to_max</th>\n",
       "    </tr>\n",
       "  </thead>\n",
       "  <tbody>\n",
       "    <tr>\n",
       "      <th>0_to_30</th>\n",
       "      <td>1.000000</td>\n",
       "      <td>0.995921</td>\n",
       "      <td>0.947396</td>\n",
       "      <td>0.972793</td>\n",
       "    </tr>\n",
       "    <tr>\n",
       "      <th>31_to_50</th>\n",
       "      <td>0.995921</td>\n",
       "      <td>1.000000</td>\n",
       "      <td>0.997243</td>\n",
       "      <td>0.951359</td>\n",
       "    </tr>\n",
       "    <tr>\n",
       "      <th>51_to_100</th>\n",
       "      <td>0.947396</td>\n",
       "      <td>0.997243</td>\n",
       "      <td>1.000000</td>\n",
       "      <td>0.805919</td>\n",
       "    </tr>\n",
       "    <tr>\n",
       "      <th>100_to_max</th>\n",
       "      <td>0.972793</td>\n",
       "      <td>0.951359</td>\n",
       "      <td>0.805919</td>\n",
       "      <td>1.000000</td>\n",
       "    </tr>\n",
       "  </tbody>\n",
       "</table>\n",
       "</div>"
      ],
      "text/plain": [
       "             0_to_30  31_to_50  51_to_100  100_to_max\n",
       "0_to_30     1.000000  0.995921   0.947396    0.972793\n",
       "31_to_50    0.995921  1.000000   0.997243    0.951359\n",
       "51_to_100   0.947396  0.997243   1.000000    0.805919\n",
       "100_to_max  0.972793  0.951359   0.805919    1.000000"
      ]
     },
     "execution_count": 38,
     "metadata": {},
     "output_type": "execute_result"
    }
   ],
   "source": [
    "scikit_posthocs.posthoc_scheffe(df3_order_more_10, val_col='REVENUE', group_col='CATEGORY_LATEST_ORDER')"
   ]
  },
  {
   "cell_type": "code",
   "execution_count": 39,
   "metadata": {},
   "outputs": [
    {
     "name": "stdout",
     "output_type": "stream",
     "text": [
      "24.726107226107224\n",
      "24.184782608695652\n",
      "23.572533849129595\n",
      "21.20504731861199\n",
      "--------------------------------------------------------\n",
      "3034.1287762237766\n",
      "3071.9951449275363\n",
      "3107.7430367504835\n",
      "2979.2837066246057\n"
     ]
    }
   ],
   "source": [
    "print(df3_order_more_10.loc[df3_order_more_10['CATEGORY_LATEST_ORDER'] == '0_to_30', 'TOTAL_ORDERS'].mean())\n",
    "print(df3_order_more_10.loc[df3_order_more_10['CATEGORY_LATEST_ORDER'] == '31_to_50', 'TOTAL_ORDERS'].mean())\n",
    "print(df3_order_more_10.loc[df3_order_more_10['CATEGORY_LATEST_ORDER'] == '51_to_100', 'TOTAL_ORDERS'].mean())\n",
    "print(df3_order_more_10.loc[df3_order_more_10['CATEGORY_LATEST_ORDER'] == '100_to_max', 'TOTAL_ORDERS'].mean())\n",
    "print('--------------------------------------------------------')\n",
    "print(df3_order_more_10.loc[df3_order_more_10['CATEGORY_LATEST_ORDER'] == '0_to_30', 'REVENUE'].mean())\n",
    "print(df3_order_more_10.loc[df3_order_more_10['CATEGORY_LATEST_ORDER'] == '31_to_50', 'REVENUE'].mean())\n",
    "print(df3_order_more_10.loc[df3_order_more_10['CATEGORY_LATEST_ORDER'] == '51_to_100', 'REVENUE'].mean())\n",
    "print(df3_order_more_10.loc[df3_order_more_10['CATEGORY_LATEST_ORDER'] == '100_to_max', 'REVENUE'].mean())"
   ]
  },
  {
   "cell_type": "markdown",
   "metadata": {},
   "source": [
    "주문 수 10회 이상인 고객들로만 분석을 시행한 결과, 분산분석에서는 그룹 간 주문 수의 차이가 유의하다고는 나오지만 사후분석 결과 30일 이내 주문한 고객 그룹과 100일 이상 미주문 고객들 그룹을 제외하고는 그룹 간 유의한 차이가 없다고 결론을 내릴 수 있다.  \n",
    "또한, 주문 수가 아닌 매출을 종속변수로 설정 시 확실하게 그룹 간 유의한 차이가 없음을 볼 수 있다.  \n",
    "각 그룹의 평균 주문 수와 매출을 봐도 그룹간 주문 수, 주문액 평균의 유의한 차이가 있다고 볼 수는 없다.  \n",
    "\n",
    "### 결론 : 최근 주문일과 주문 수, 구매액과는 유의한 차이가 없다.  \n",
    "따라서, 최근 주문일로는 활성화 고객과 비활성화 고객을 구분하는 용도 정도로 쓸 수 있을 것이다."
   ]
  },
  {
   "cell_type": "markdown",
   "metadata": {},
   "source": [
    "## 요일별 분석  \n",
    "가장 활발한 목요일, 그리고 유의미하게 활봘한 (목, 금, 일) 그룹에 대해서 각각 분석을 진행한다."
   ]
  },
  {
   "cell_type": "code",
   "execution_count": 40,
   "metadata": {},
   "outputs": [
    {
     "data": {
      "text/html": [
       "<div>\n",
       "<style scoped>\n",
       "    .dataframe tbody tr th:only-of-type {\n",
       "        vertical-align: middle;\n",
       "    }\n",
       "\n",
       "    .dataframe tbody tr th {\n",
       "        vertical-align: top;\n",
       "    }\n",
       "\n",
       "    .dataframe thead th {\n",
       "        text-align: right;\n",
       "    }\n",
       "</style>\n",
       "<table border=\"1\" class=\"dataframe\">\n",
       "  <thead>\n",
       "    <tr style=\"text-align: right;\">\n",
       "      <th></th>\n",
       "      <th>TOTAL_ORDERS</th>\n",
       "      <th>REVENUE</th>\n",
       "    </tr>\n",
       "  </thead>\n",
       "  <tbody>\n",
       "    <tr>\n",
       "      <th>count</th>\n",
       "      <td>5000.00000</td>\n",
       "      <td>5000.000000</td>\n",
       "    </tr>\n",
       "    <tr>\n",
       "      <th>mean</th>\n",
       "      <td>12.87040</td>\n",
       "      <td>1681.523840</td>\n",
       "    </tr>\n",
       "    <tr>\n",
       "      <th>std</th>\n",
       "      <td>12.67988</td>\n",
       "      <td>1998.618678</td>\n",
       "    </tr>\n",
       "    <tr>\n",
       "      <th>min</th>\n",
       "      <td>1.00000</td>\n",
       "      <td>38.500000</td>\n",
       "    </tr>\n",
       "    <tr>\n",
       "      <th>25%</th>\n",
       "      <td>3.00000</td>\n",
       "      <td>315.097500</td>\n",
       "    </tr>\n",
       "    <tr>\n",
       "      <th>50%</th>\n",
       "      <td>8.00000</td>\n",
       "      <td>966.725000</td>\n",
       "    </tr>\n",
       "    <tr>\n",
       "      <th>75%</th>\n",
       "      <td>20.00000</td>\n",
       "      <td>2493.072500</td>\n",
       "    </tr>\n",
       "    <tr>\n",
       "      <th>max</th>\n",
       "      <td>156.00000</td>\n",
       "      <td>34847.400000</td>\n",
       "    </tr>\n",
       "  </tbody>\n",
       "</table>\n",
       "</div>"
      ],
      "text/plain": [
       "       TOTAL_ORDERS       REVENUE\n",
       "count    5000.00000   5000.000000\n",
       "mean       12.87040   1681.523840\n",
       "std        12.67988   1998.618678\n",
       "min         1.00000     38.500000\n",
       "25%         3.00000    315.097500\n",
       "50%         8.00000    966.725000\n",
       "75%        20.00000   2493.072500\n",
       "max       156.00000  34847.400000"
      ]
     },
     "execution_count": 40,
     "metadata": {},
     "output_type": "execute_result"
    }
   ],
   "source": [
    "data[['TOTAL_ORDERS', 'REVENUE']].describe()"
   ]
  },
  {
   "cell_type": "markdown",
   "metadata": {},
   "source": [
    "상위 그룹을 주문 수 총 주문 수 또는 구매액이 상위 10%에 드는 고객들로 설정한다."
   ]
  },
  {
   "cell_type": "code",
   "execution_count": 41,
   "metadata": {},
   "outputs": [
    {
     "data": {
      "text/plain": [
       "TOTAL_ORDERS      28.000\n",
       "REVENUE         3899.444\n",
       "Name: 0.9, dtype: float64"
      ]
     },
     "execution_count": 41,
     "metadata": {},
     "output_type": "execute_result"
    }
   ],
   "source": [
    "data[['TOTAL_ORDERS', 'REVENUE']].quantile(q=0.9)"
   ]
  },
  {
   "cell_type": "code",
   "execution_count": 42,
   "metadata": {},
   "outputs": [
    {
     "data": {
      "text/html": [
       "<div>\n",
       "<style scoped>\n",
       "    .dataframe tbody tr th:only-of-type {\n",
       "        vertical-align: middle;\n",
       "    }\n",
       "\n",
       "    .dataframe tbody tr th {\n",
       "        vertical-align: top;\n",
       "    }\n",
       "\n",
       "    .dataframe thead th {\n",
       "        text-align: right;\n",
       "    }\n",
       "</style>\n",
       "<table border=\"1\" class=\"dataframe\">\n",
       "  <thead>\n",
       "    <tr style=\"text-align: right;\">\n",
       "      <th></th>\n",
       "      <th>index</th>\n",
       "      <th>CustomerID</th>\n",
       "      <th>TOTAL_ORDERS</th>\n",
       "      <th>REVENUE</th>\n",
       "      <th>AVERAGE_ORDER_VALUE</th>\n",
       "      <th>CARRIAGE_REVENUE</th>\n",
       "      <th>AVERAGESHIPPING</th>\n",
       "      <th>FIRST_ORDER_DATE</th>\n",
       "      <th>LATEST_ORDER_DATE</th>\n",
       "      <th>AVGDAYSBETWEENORDERS</th>\n",
       "      <th>...</th>\n",
       "      <th>WEEK3_DAY16_DAY23_REVENUE</th>\n",
       "      <th>WEEK4_DAY24_DAY31_REVENUE</th>\n",
       "      <th>TIME_0000_0600_ORDERS</th>\n",
       "      <th>TIME_0601_1200_ORDERS</th>\n",
       "      <th>TIME_1200_1800_ORDERS</th>\n",
       "      <th>TIME_1801_2359_ORDERS</th>\n",
       "      <th>TIME_0000_0600_REVENUE</th>\n",
       "      <th>TIME_0601_1200_REVENUE</th>\n",
       "      <th>TIME_1200_1800_REVENUE</th>\n",
       "      <th>TIME_1801_2359_REVENUE</th>\n",
       "    </tr>\n",
       "  </thead>\n",
       "  <tbody>\n",
       "    <tr>\n",
       "      <th>count</th>\n",
       "      <td>754.000000</td>\n",
       "      <td>754.000000</td>\n",
       "      <td>754.000000</td>\n",
       "      <td>754.000000</td>\n",
       "      <td>754.000000</td>\n",
       "      <td>754.000000</td>\n",
       "      <td>754.000000</td>\n",
       "      <td>754.000000</td>\n",
       "      <td>754.000000</td>\n",
       "      <td>754.000000</td>\n",
       "      <td>...</td>\n",
       "      <td>754.000000</td>\n",
       "      <td>754.000000</td>\n",
       "      <td>754.000000</td>\n",
       "      <td>754.000000</td>\n",
       "      <td>754.000000</td>\n",
       "      <td>754.000000</td>\n",
       "      <td>754.000000</td>\n",
       "      <td>754.000000</td>\n",
       "      <td>754.000000</td>\n",
       "      <td>754.000000</td>\n",
       "    </tr>\n",
       "    <tr>\n",
       "      <th>mean</th>\n",
       "      <td>2185.233422</td>\n",
       "      <td>3043.531830</td>\n",
       "      <td>33.415119</td>\n",
       "      <td>4929.109324</td>\n",
       "      <td>173.075239</td>\n",
       "      <td>108.481127</td>\n",
       "      <td>3.251751</td>\n",
       "      <td>1290.851459</td>\n",
       "      <td>58.327586</td>\n",
       "      <td>44.207268</td>\n",
       "      <td>...</td>\n",
       "      <td>1267.908395</td>\n",
       "      <td>1328.757387</td>\n",
       "      <td>2.766578</td>\n",
       "      <td>9.558355</td>\n",
       "      <td>11.513263</td>\n",
       "      <td>9.576923</td>\n",
       "      <td>386.671724</td>\n",
       "      <td>1424.186963</td>\n",
       "      <td>1701.227706</td>\n",
       "      <td>1417.022931</td>\n",
       "    </tr>\n",
       "    <tr>\n",
       "      <th>std</th>\n",
       "      <td>889.113763</td>\n",
       "      <td>1846.878847</td>\n",
       "      <td>15.468902</td>\n",
       "      <td>2854.899842</td>\n",
       "      <td>123.204859</td>\n",
       "      <td>64.129341</td>\n",
       "      <td>1.289394</td>\n",
       "      <td>707.056004</td>\n",
       "      <td>51.855762</td>\n",
       "      <td>34.705435</td>\n",
       "      <td>...</td>\n",
       "      <td>1069.441247</td>\n",
       "      <td>943.278513</td>\n",
       "      <td>3.868852</td>\n",
       "      <td>7.265953</td>\n",
       "      <td>7.065090</td>\n",
       "      <td>6.817098</td>\n",
       "      <td>646.043133</td>\n",
       "      <td>1471.010010</td>\n",
       "      <td>1282.707357</td>\n",
       "      <td>1253.869429</td>\n",
       "    </tr>\n",
       "    <tr>\n",
       "      <th>min</th>\n",
       "      <td>0.000000</td>\n",
       "      <td>2333.000000</td>\n",
       "      <td>5.000000</td>\n",
       "      <td>532.690000</td>\n",
       "      <td>11.220000</td>\n",
       "      <td>0.000000</td>\n",
       "      <td>0.000000</td>\n",
       "      <td>90.000000</td>\n",
       "      <td>1.000000</td>\n",
       "      <td>1.640000</td>\n",
       "      <td>...</td>\n",
       "      <td>0.000000</td>\n",
       "      <td>0.000000</td>\n",
       "      <td>0.000000</td>\n",
       "      <td>0.000000</td>\n",
       "      <td>0.000000</td>\n",
       "      <td>0.000000</td>\n",
       "      <td>0.000000</td>\n",
       "      <td>0.000000</td>\n",
       "      <td>0.000000</td>\n",
       "      <td>0.000000</td>\n",
       "    </tr>\n",
       "    <tr>\n",
       "      <th>25%</th>\n",
       "      <td>1503.250000</td>\n",
       "      <td>2521.250000</td>\n",
       "      <td>25.000000</td>\n",
       "      <td>3443.555000</td>\n",
       "      <td>96.687500</td>\n",
       "      <td>66.892500</td>\n",
       "      <td>2.400000</td>\n",
       "      <td>679.750000</td>\n",
       "      <td>14.000000</td>\n",
       "      <td>18.805000</td>\n",
       "      <td>...</td>\n",
       "      <td>658.435000</td>\n",
       "      <td>728.070000</td>\n",
       "      <td>0.000000</td>\n",
       "      <td>5.000000</td>\n",
       "      <td>7.000000</td>\n",
       "      <td>5.000000</td>\n",
       "      <td>0.000000</td>\n",
       "      <td>655.717500</td>\n",
       "      <td>891.600000</td>\n",
       "      <td>614.317500</td>\n",
       "    </tr>\n",
       "    <tr>\n",
       "      <th>50%</th>\n",
       "      <td>2118.500000</td>\n",
       "      <td>2709.500000</td>\n",
       "      <td>31.000000</td>\n",
       "      <td>4319.395000</td>\n",
       "      <td>135.840000</td>\n",
       "      <td>99.815000</td>\n",
       "      <td>3.290000</td>\n",
       "      <td>1267.000000</td>\n",
       "      <td>41.500000</td>\n",
       "      <td>36.065000</td>\n",
       "      <td>...</td>\n",
       "      <td>1025.330000</td>\n",
       "      <td>1162.425000</td>\n",
       "      <td>1.000000</td>\n",
       "      <td>8.000000</td>\n",
       "      <td>10.000000</td>\n",
       "      <td>8.000000</td>\n",
       "      <td>178.475000</td>\n",
       "      <td>1130.590000</td>\n",
       "      <td>1443.460000</td>\n",
       "      <td>1118.730000</td>\n",
       "    </tr>\n",
       "    <tr>\n",
       "      <th>75%</th>\n",
       "      <td>2901.750000</td>\n",
       "      <td>3045.500000</td>\n",
       "      <td>39.000000</td>\n",
       "      <td>5451.762500</td>\n",
       "      <td>210.430000</td>\n",
       "      <td>137.567500</td>\n",
       "      <td>4.177500</td>\n",
       "      <td>1737.000000</td>\n",
       "      <td>96.000000</td>\n",
       "      <td>56.910000</td>\n",
       "      <td>...</td>\n",
       "      <td>1569.485000</td>\n",
       "      <td>1681.377500</td>\n",
       "      <td>4.000000</td>\n",
       "      <td>13.000000</td>\n",
       "      <td>15.000000</td>\n",
       "      <td>13.000000</td>\n",
       "      <td>497.775000</td>\n",
       "      <td>1829.742500</td>\n",
       "      <td>2190.522500</td>\n",
       "      <td>1813.895000</td>\n",
       "    </tr>\n",
       "    <tr>\n",
       "      <th>max</th>\n",
       "      <td>3984.000000</td>\n",
       "      <td>39212.000000</td>\n",
       "      <td>156.000000</td>\n",
       "      <td>34847.400000</td>\n",
       "      <td>1294.000000</td>\n",
       "      <td>529.590000</td>\n",
       "      <td>13.610000</td>\n",
       "      <td>2822.000000</td>\n",
       "      <td>205.000000</td>\n",
       "      <td>233.330000</td>\n",
       "      <td>...</td>\n",
       "      <td>12946.220000</td>\n",
       "      <td>8274.970000</td>\n",
       "      <td>34.000000</td>\n",
       "      <td>61.000000</td>\n",
       "      <td>58.000000</td>\n",
       "      <td>64.000000</td>\n",
       "      <td>7700.240000</td>\n",
       "      <td>23832.770000</td>\n",
       "      <td>17749.010000</td>\n",
       "      <td>12995.020000</td>\n",
       "    </tr>\n",
       "  </tbody>\n",
       "</table>\n",
       "<p>8 rows × 41 columns</p>\n",
       "</div>"
      ],
      "text/plain": [
       "             index    CustomerID  TOTAL_ORDERS       REVENUE  \\\n",
       "count   754.000000    754.000000    754.000000    754.000000   \n",
       "mean   2185.233422   3043.531830     33.415119   4929.109324   \n",
       "std     889.113763   1846.878847     15.468902   2854.899842   \n",
       "min       0.000000   2333.000000      5.000000    532.690000   \n",
       "25%    1503.250000   2521.250000     25.000000   3443.555000   \n",
       "50%    2118.500000   2709.500000     31.000000   4319.395000   \n",
       "75%    2901.750000   3045.500000     39.000000   5451.762500   \n",
       "max    3984.000000  39212.000000    156.000000  34847.400000   \n",
       "\n",
       "       AVERAGE_ORDER_VALUE  CARRIAGE_REVENUE  AVERAGESHIPPING  \\\n",
       "count           754.000000        754.000000       754.000000   \n",
       "mean            173.075239        108.481127         3.251751   \n",
       "std             123.204859         64.129341         1.289394   \n",
       "min              11.220000          0.000000         0.000000   \n",
       "25%              96.687500         66.892500         2.400000   \n",
       "50%             135.840000         99.815000         3.290000   \n",
       "75%             210.430000        137.567500         4.177500   \n",
       "max            1294.000000        529.590000        13.610000   \n",
       "\n",
       "       FIRST_ORDER_DATE  LATEST_ORDER_DATE  AVGDAYSBETWEENORDERS  ...  \\\n",
       "count        754.000000         754.000000            754.000000  ...   \n",
       "mean        1290.851459          58.327586             44.207268  ...   \n",
       "std          707.056004          51.855762             34.705435  ...   \n",
       "min           90.000000           1.000000              1.640000  ...   \n",
       "25%          679.750000          14.000000             18.805000  ...   \n",
       "50%         1267.000000          41.500000             36.065000  ...   \n",
       "75%         1737.000000          96.000000             56.910000  ...   \n",
       "max         2822.000000         205.000000            233.330000  ...   \n",
       "\n",
       "       WEEK3_DAY16_DAY23_REVENUE  WEEK4_DAY24_DAY31_REVENUE  \\\n",
       "count                 754.000000                 754.000000   \n",
       "mean                 1267.908395                1328.757387   \n",
       "std                  1069.441247                 943.278513   \n",
       "min                     0.000000                   0.000000   \n",
       "25%                   658.435000                 728.070000   \n",
       "50%                  1025.330000                1162.425000   \n",
       "75%                  1569.485000                1681.377500   \n",
       "max                 12946.220000                8274.970000   \n",
       "\n",
       "       TIME_0000_0600_ORDERS  TIME_0601_1200_ORDERS  TIME_1200_1800_ORDERS  \\\n",
       "count             754.000000             754.000000             754.000000   \n",
       "mean                2.766578               9.558355              11.513263   \n",
       "std                 3.868852               7.265953               7.065090   \n",
       "min                 0.000000               0.000000               0.000000   \n",
       "25%                 0.000000               5.000000               7.000000   \n",
       "50%                 1.000000               8.000000              10.000000   \n",
       "75%                 4.000000              13.000000              15.000000   \n",
       "max                34.000000              61.000000              58.000000   \n",
       "\n",
       "       TIME_1801_2359_ORDERS  TIME_0000_0600_REVENUE  TIME_0601_1200_REVENUE  \\\n",
       "count             754.000000              754.000000              754.000000   \n",
       "mean                9.576923              386.671724             1424.186963   \n",
       "std                 6.817098              646.043133             1471.010010   \n",
       "min                 0.000000                0.000000                0.000000   \n",
       "25%                 5.000000                0.000000              655.717500   \n",
       "50%                 8.000000              178.475000             1130.590000   \n",
       "75%                13.000000              497.775000             1829.742500   \n",
       "max                64.000000             7700.240000            23832.770000   \n",
       "\n",
       "       TIME_1200_1800_REVENUE  TIME_1801_2359_REVENUE  \n",
       "count              754.000000              754.000000  \n",
       "mean              1701.227706             1417.022931  \n",
       "std               1282.707357             1253.869429  \n",
       "min                  0.000000                0.000000  \n",
       "25%                891.600000              614.317500  \n",
       "50%               1443.460000             1118.730000  \n",
       "75%               2190.522500             1813.895000  \n",
       "max              17749.010000            12995.020000  \n",
       "\n",
       "[8 rows x 41 columns]"
      ]
     },
     "execution_count": 42,
     "metadata": {},
     "output_type": "execute_result"
    }
   ],
   "source": [
    "df_vip = data.loc[(data['TOTAL_ORDERS'] >= 28) | (data['REVENUE'] >= 3899)]\n",
    "df_not_vip = data.loc[(data['TOTAL_ORDERS'] < 28) & (data['REVENUE'] < 3899)]\n",
    "df_vip.describe()"
   ]
  },
  {
   "cell_type": "code",
   "execution_count": 43,
   "metadata": {},
   "outputs": [],
   "source": [
    "df_vip_weekday_order = df_vip.iloc[:, 11:18].sum()\n",
    "df_vip_weekday_revenue = df_vip.iloc[:, 18:25].sum()\n",
    "\n",
    "df_not_vip_weekday_order = df_not_vip.iloc[:, 11:18].sum()\n",
    "df_not_vip_weekday_revenue = df_not_vip.iloc[:, 18:25].sum()"
   ]
  },
  {
   "cell_type": "code",
   "execution_count": 44,
   "metadata": {},
   "outputs": [
    {
     "data": {
      "text/plain": [
       "Index(['MONDAY_ORDERS', 'TUESDAY_ORDERS', 'WEDNESDAY_ORDERS',\n",
       "       'THURSDAY_ORDERS', 'FRIDAY_ORDERS', 'SATURDAY_ORDERS', 'SUNDAY_ORDERS'],\n",
       "      dtype='object')"
      ]
     },
     "execution_count": 44,
     "metadata": {},
     "output_type": "execute_result"
    }
   ],
   "source": [
    "df_vip_weekday_order.index"
   ]
  },
  {
   "cell_type": "code",
   "execution_count": 45,
   "metadata": {},
   "outputs": [
    {
     "data": {
      "text/plain": [
       "(754, 41)"
      ]
     },
     "execution_count": 45,
     "metadata": {},
     "output_type": "execute_result"
    }
   ],
   "source": [
    "df_vip.shape"
   ]
  },
  {
   "cell_type": "code",
   "execution_count": 46,
   "metadata": {},
   "outputs": [
    {
     "data": {
      "text/plain": [
       "(4246, 41)"
      ]
     },
     "execution_count": 46,
     "metadata": {},
     "output_type": "execute_result"
    }
   ],
   "source": [
    "df_not_vip.shape"
   ]
  },
  {
   "cell_type": "code",
   "execution_count": 47,
   "metadata": {},
   "outputs": [
    {
     "name": "stdout",
     "output_type": "stream",
     "text": [
      "MONDAY_ORDERS       3241\n",
      "TUESDAY_ORDERS      3660\n",
      "WEDNESDAY_ORDERS    3710\n",
      "THURSDAY_ORDERS     3755\n",
      "FRIDAY_ORDERS       3911\n",
      "SATURDAY_ORDERS     3424\n",
      "SUNDAY_ORDERS       3494\n",
      "dtype: int64\n",
      "------------------\n",
      "MONDAY_REVENUE       484940.72\n",
      "TUESDAY_REVENUE      556564.27\n",
      "WEDNESDAY_REVENUE    554865.99\n",
      "THURSDAY_REVENUE     540417.31\n",
      "FRIDAY_REVENUE       551950.22\n",
      "SATURDAY_REVENUE     497897.93\n",
      "SUNDAY_REVENUE       529911.99\n",
      "dtype: float64\n"
     ]
    }
   ],
   "source": [
    "print(df_vip_weekday_order)\n",
    "print('------------------')\n",
    "print(df_vip_weekday_revenue)"
   ]
  },
  {
   "cell_type": "code",
   "execution_count": 48,
   "metadata": {},
   "outputs": [
    {
     "data": {
      "image/png": "[encoded data removed]",
      "text/plain": [
       "<Figure size 3000x700 with 2 Axes>"
      ]
     },
     "metadata": {},
     "output_type": "display_data"
    }
   ],
   "source": [
    "f, axes = plt.subplots(1, 2)\n",
    "f.set_size_inches(30, 7)\n",
    "\n",
    "axes[0].bar(df_vip_weekday_order.index, df_vip_weekday_order)\n",
    "axes[0].set_title('Order')\n",
    "\n",
    "axes[1].bar(df_vip_weekday_revenue.index, df_vip_weekday_revenue)\n",
    "axes[1].set_title('Revenue')\n",
    "plt.show()"
   ]
  },
  {
   "cell_type": "code",
   "execution_count": 49,
   "metadata": {},
   "outputs": [
    {
     "name": "stdout",
     "output_type": "stream",
     "text": [
      "MONDAY_ORDERS       4904\n",
      "TUESDAY_ORDERS      5112\n",
      "WEDNESDAY_ORDERS    5280\n",
      "THURSDAY_ORDERS     6915\n",
      "FRIDAY_ORDERS       5820\n",
      "SATURDAY_ORDERS     4993\n",
      "SUNDAY_ORDERS       6133\n",
      "dtype: int64\n",
      "------------------\n",
      "MONDAY_REVENUE       591100.96\n",
      "TUESDAY_REVENUE      610987.88\n",
      "WEDNESDAY_REVENUE    623580.48\n",
      "THURSDAY_REVENUE     789331.67\n",
      "FRIDAY_REVENUE       700952.55\n",
      "SATURDAY_REVENUE     600312.57\n",
      "SUNDAY_REVENUE       774804.66\n",
      "dtype: float64\n"
     ]
    }
   ],
   "source": [
    "print(df_not_vip_weekday_order)\n",
    "print('------------------')\n",
    "print(df_not_vip_weekday_revenue)"
   ]
  },
  {
   "cell_type": "code",
   "execution_count": 50,
   "metadata": {},
   "outputs": [
    {
     "data": {
      "image/png": "[encoded data removed]",
      "text/plain": [
       "<Figure size 3000x700 with 2 Axes>"
      ]
     },
     "metadata": {},
     "output_type": "display_data"
    }
   ],
   "source": [
    "f, axes = plt.subplots(1, 2)\n",
    "f.set_size_inches(30, 7)\n",
    "\n",
    "axes[0].bar(df_not_vip_weekday_order.index, df_not_vip_weekday_order)\n",
    "axes[0].set_title('Order')\n",
    "\n",
    "axes[1].bar(df_not_vip_weekday_revenue.index, df_not_vip_weekday_revenue)\n",
    "axes[1].set_title('Revenue')\n",
    "plt.show()"
   ]
  },
  {
   "cell_type": "markdown",
   "metadata": {},
   "source": [
    "시각화 자료를 보면, 상위 그룹의 경우 (금, 토, 일)주말보다는 평일에 더욱 활발한 경향이 있지만 뚜렷한 차이는 보이지 않는다.  \n",
    "반면 비 상위 그룹의 경우 (목, 금, 일)요일에 뚜렷하게 활발한 차이를 보인다.  \n",
    "  \n",
    "  상위 그룹과 비 상위 그룹에서, (목, 금, 일)요일의 평균 주문수와 구매액, 이외 요일의 평균 주문수와 구매액이 총 주문 수와 구매액에 영향을 미치는지 다중회귀분석을 진행한다."
   ]
  },
  {
   "cell_type": "code",
   "execution_count": 51,
   "metadata": {},
   "outputs": [],
   "source": [
    "import numpy as np\n",
    "import statsmodels.formula.api as smf\n",
    "from patsy import dmatrices\n",
    "from statsmodels.stats.outliers_influence import variance_inflation_factor"
   ]
  },
  {
   "cell_type": "markdown",
   "metadata": {},
   "source": [
    "VIF 값이 모두 2.02로 다중공선성 문제 X"
   ]
  },
  {
   "cell_type": "code",
   "execution_count": 54,
   "metadata": {},
   "outputs": [],
   "source": [
    "# 요거 원본 데이터서 'mean_TFS'와 'mean_MTWS' order와 revenue로 추가한 후 vip와 not_vip 나누기\n",
    "\n",
    "df_vip.loc[:, 'mean_order_TFS'] = (df_vip['THURSDAY_ORDERS'] + df_vip['FRIDAY_ORDERS'] + df_vip['SATURDAY_ORDERS']) / 3\n",
    "df_vip.loc[:, 'mean_order_MTWS'] = (df_vip['MONDAY_ORDERS'] + df_vip['TUESDAY_ORDERS'] + df_vip['WEDNESDAY_ORDERS'] + df_vip['SATURDAY_ORDERS']) / 4\n",
    "\n",
    "df_not_vip.loc[:, 'mean_order_TFS'] = (df_not_vip['THURSDAY_ORDERS'] + df_not_vip['FRIDAY_ORDERS'] + df_not_vip['SATURDAY_ORDERS']) / 3\n",
    "df_not_vip.loc[:, 'mean_order_MTWS'] = (df_not_vip['MONDAY_ORDERS'] + df_not_vip['TUESDAY_ORDERS'] + df_not_vip['WEDNESDAY_ORDERS'] + df_not_vip['SATURDAY_ORDERS']) / 4"
   ]
  },
  {
   "cell_type": "code",
   "execution_count": 53,
   "metadata": {},
   "outputs": [],
   "source": [
    "# 요일, 주차, 시간 모두 p-value를 따지는 통계적 회귀분석 보다는, 머신러닝의 회귀분석을 이용해 회귀선을 만들고 식을 통해 결론 도출하기"
   ]
  },
  {
   "cell_type": "markdown",
   "metadata": {},
   "source": [
    "상위 10% 고객을 제외한 데이터에서 주차별, 시간대별 추이 확인"
   ]
  },
  {
   "cell_type": "code",
   "execution_count": 56,
   "metadata": {},
   "outputs": [],
   "source": [
    "df_not_vip_week = df_not_vip[['CustomerID', 'WEEK1_DAY01_DAY07_ORDERS', 'WEEK2_DAY08_DAY15_ORDERS', 'WEEK3_DAY16_DAY23_ORDERS', 'WEEK4_DAY24_DAY31_ORDERS',\n",
    "                'WEEK1_DAY01_DAY07_REVENUE', 'WEEK2_DAY08_DAY15_REVENUE', 'WEEK3_DAY16_DAY23_REVENUE', 'WEEK4_DAY24_DAY31_REVENUE']]\n",
    "\n",
    "df_not_vip_time = df_not_vip[['CustomerID', 'TIME_0000_0600_ORDERS', 'TIME_0601_1200_ORDERS', 'TIME_1200_1800_ORDERS', 'TIME_1801_2359_ORDERS',\n",
    "                'TIME_0000_0600_REVENUE', 'TIME_0601_1200_REVENUE', 'TIME_1200_1800_REVENUE', 'TIME_1801_2359_REVENUE']]"
   ]
  },
  {
   "cell_type": "code",
   "execution_count": 58,
   "metadata": {},
   "outputs": [
    {
     "name": "stdout",
     "output_type": "stream",
     "text": [
      "[9449, 8975, 9614, 11119]\n",
      "[1085169, 1082338, 1153131, 1370431]\n"
     ]
    }
   ],
   "source": [
    "df_not_vip_week_order = df_not_vip_week.iloc[:, 1:5]\n",
    "df_not_vip_week_revenue = df_not_vip_week.iloc[:, 5:]\n",
    "\n",
    "sum_order_not_vip_week = []\n",
    "sum_revenue_not_vip_week = []\n",
    "\n",
    "for i in range(4):\n",
    "    sum_order_not_vip_week.append(df_not_vip_week_order.iloc[:, i].sum())\n",
    "    sum_revenue_not_vip_week.append(int(df_not_vip_week_revenue.iloc[:, i].sum()))\n",
    "print(sum_order_not_vip_week)\n",
    "print(sum_revenue_not_vip_week)"
   ]
  },
  {
   "cell_type": "code",
   "execution_count": 59,
   "metadata": {},
   "outputs": [
    {
     "name": "stdout",
     "output_type": "stream",
     "text": [
      "[3058, 11524, 13489, 11086]\n",
      "[363762, 1360482, 1640932, 1325893]\n"
     ]
    }
   ],
   "source": [
    "df_not_vip_time_order = df_not_vip_time.iloc[:, 1:5]\n",
    "df_not_vip_time_revenue = df_not_vip_time.iloc[:, 5:]\n",
    "\n",
    "sum_not_vip_order_time = []\n",
    "sum_not_vip_revenue_time = []\n",
    "\n",
    "for i in range(4):\n",
    "    sum_not_vip_order_time.append(df_not_vip_time_order.iloc[:, i].sum())\n",
    "    sum_not_vip_revenue_time.append(int(df_not_vip_time_revenue.iloc[:, i].sum()))\n",
    "print(sum_not_vip_order_time)\n",
    "print(sum_not_vip_revenue_time)"
   ]
  },
  {
   "cell_type": "code",
   "execution_count": 60,
   "metadata": {},
   "outputs": [
    {
     "data": {
      "image/png": "[encoded data removed]",
      "text/plain": [
       "<Figure size 1500x700 with 2 Axes>"
      ]
     },
     "metadata": {},
     "output_type": "display_data"
    }
   ],
   "source": [
    "# 상위 10% 제외한 고객들의 주차별 주문량, 구매액\n",
    "week = ['Week1', 'Week2', 'Week3', 'Week4']\n",
    "\n",
    "f, axes = plt.subplots(1, 2)\n",
    "f.set_size_inches(15, 7)\n",
    "\n",
    "axes[0].bar(week, sum_order_not_vip_week)\n",
    "axes[0].set_title('Order')\n",
    "\n",
    "axes[1].bar(week, sum_revenue_not_vip_week)\n",
    "axes[1].set_title('Revenue')\n",
    "plt.show()"
   ]
  },
  {
   "cell_type": "code",
   "execution_count": 61,
   "metadata": {},
   "outputs": [
    {
     "data": {
      "image/png": "[encoded data removed]",
      "text/plain": [
       "<Figure size 1500x700 with 2 Axes>"
      ]
     },
     "metadata": {},
     "output_type": "display_data"
    }
   ],
   "source": [
    "# 상위 10% 고객들을 제외한 시간대별 고객의 주문량, 구매액\n",
    "time = ['0000~0600', '0601~1200', '1201~1800', '1801~2359']\n",
    "\n",
    "f, axes = plt.subplots(1, 2)\n",
    "f.set_size_inches(15, 7)\n",
    "\n",
    "axes[0].bar(time, sum_not_vip_order_time)\n",
    "axes[0].set_title('Order')\n",
    "\n",
    "axes[1].bar(time, sum_not_vip_revenue_time)\n",
    "axes[1].set_title('Revenue')\n",
    "plt.show()"
   ]
  },
  {
   "cell_type": "code",
   "execution_count": null,
   "metadata": {},
   "outputs": [],
   "source": []
  }
 ],
 "metadata": {
  "kernelspec": {
   "display_name": "Python 3 (ipykernel)",
   "language": "python",
   "name": "python3"
  },
  "language_info": {
   "codemirror_mode": {
    "name": "ipython",
    "version": 3
   },
   "file_extension": ".py",
   "mimetype": "text/x-python",
   "name": "python",
   "nbconvert_exporter": "python",
   "pygments_lexer": "ipython3",
   "version": "3.10.9"
  }
 },
 "nbformat": 4,
 "nbformat_minor": 2
}
